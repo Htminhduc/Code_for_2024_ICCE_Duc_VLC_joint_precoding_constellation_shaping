{
 "cells": [
  {
   "cell_type": "code",
   "execution_count": 2,
   "metadata": {
    "ExecuteTime": {
     "end_time": "2024-04-01T05:28:04.457569Z",
     "start_time": "2024-04-01T05:28:04.442575Z"
    },
    "colab": {
     "base_uri": "https://localhost:8080/"
    },
    "id": "SRv-Ru5pXrN1",
    "outputId": "1a30f4a8-49a5-4127-c265-8ecb7f4563d0"
   },
   "outputs": [
    {
     "name": "stdout",
     "output_type": "stream",
     "text": [
      "time: 0 ns (started: 2024-04-02 10:09:26 +07:00)\n"
     ]
    }
   ],
   "source": [
    "# pip install -U \"ray[default]\""
   ]
  },
  {
   "cell_type": "code",
   "execution_count": 3,
   "metadata": {
    "ExecuteTime": {
     "end_time": "2024-04-01T05:28:04.472278Z",
     "start_time": "2024-04-01T05:28:04.458569Z"
    },
    "colab": {
     "base_uri": "https://localhost:8080/"
    },
    "id": "fFJi-TiIyAhO",
    "outputId": "dba5db10-612a-4b3c-dc53-e9f154835a12"
   },
   "outputs": [
    {
     "name": "stdout",
     "output_type": "stream",
     "text": [
      "time: 0 ns (started: 2024-04-02 10:09:26 +07:00)\n"
     ]
    }
   ],
   "source": [
    "# pip install secure-smtplib"
   ]
  },
  {
   "cell_type": "code",
   "execution_count": 4,
   "metadata": {
    "ExecuteTime": {
     "end_time": "2024-04-01T05:28:04.487474Z",
     "start_time": "2024-04-01T05:28:04.473277Z"
    },
    "colab": {
     "base_uri": "https://localhost:8080/"
    },
    "id": "CLNTNaB9XpB0",
    "outputId": "a10622bd-46e5-444d-ed3a-71f3c00da733"
   },
   "outputs": [
    {
     "name": "stdout",
     "output_type": "stream",
     "text": [
      "time: 0 ns (started: 2024-04-02 10:09:26 +07:00)\n"
     ]
    }
   ],
   "source": [
    "# pip install ipython-autotime"
   ]
  },
  {
   "cell_type": "markdown",
   "metadata": {
    "id": "zFGGpSXPhg5t"
   },
   "source": [
    "This code is for 8 PAM, changing precoding and probabilistic shaping to obtain optimized secrecy capacity and BER from 10 to 40 dbm (with ber constrain) (RAY)\n"
   ]
  },
  {
   "cell_type": "code",
   "execution_count": 5,
   "metadata": {
    "ExecuteTime": {
     "end_time": "2024-04-01T05:28:05.105190Z",
     "start_time": "2024-04-01T05:28:04.488471Z"
    },
    "colab": {
     "base_uri": "https://localhost:8080/"
    },
    "id": "PBzpBhFhWWZE",
    "outputId": "48144a12-5855-40c3-c4a5-dedc4ad82ad5"
   },
   "outputs": [
    {
     "name": "stdout",
     "output_type": "stream",
     "text": [
      "The autotime extension is already loaded. To reload it, use:\n",
      "  %reload_ext autotime\n",
      "time: 16 ms (started: 2024-04-02 10:09:26 +07:00)\n"
     ]
    }
   ],
   "source": [
    "import numpy as np\n",
    "import math\n",
    "import matplotlib.pyplot as plt\n",
    "from scipy.integrate import quad as quad\n",
    "from matplotlib import pyplot as plt\n",
    "import matplotlib.colors as mcolors\n",
    "from numpy.lib.function_base import angle\n",
    "from collections import defaultdict\n",
    "import os\n",
    "# from scipy (torch.__version__)\n",
    "from scipy.misc import derivative as deri\n",
    "%load_ext autotime\n",
    "import ray\n",
    "from IPython.display import display, HTML"
   ]
  },
  {
   "cell_type": "code",
   "execution_count": 6,
   "metadata": {
    "ExecuteTime": {
     "end_time": "2024-04-01T05:28:05.120193Z",
     "start_time": "2024-04-01T05:28:05.105190Z"
    },
    "colab": {
     "base_uri": "https://localhost:8080/"
    },
    "id": "awmLfU72yAhQ",
    "outputId": "0f4761b8-1409-4afd-80db-975e48733a37"
   },
   "outputs": [
    {
     "name": "stdout",
     "output_type": "stream",
     "text": [
      "time: 16 ms (started: 2024-04-02 10:09:26 +07:00)\n"
     ]
    }
   ],
   "source": [
    "import numpy as np\n",
    "\n",
    "class ParticleSwarmOptimization:\n",
    "    def __init__(self, population_size, inertia_weight, cognitive_coefficient, social_coefficient, generations):\n",
    "        self.population_size = population_size\n",
    "        self.inertia_weight = inertia_weight\n",
    "        self.cognitive_coefficient = cognitive_coefficient\n",
    "        self.social_coefficient = social_coefficient\n",
    "        self.generations = generations\n",
    "    def add_ones(self, positions, x):\n",
    "      ones_to_add = np.ones((positions.shape[0], x), dtype=int)\n",
    "      return np.concatenate((positions, ones_to_add), axis=1)\n",
    "    def initialize_particles(self, genes_length):\n",
    "        # positions = np.random.rand(self.population_size-2, genes_length)\n",
    "\n",
    "        positions = np.random.uniform(0.0000000001, 1, [self.population_size-1, 4] )\n",
    "\n",
    "#         new_positions = self.add_ones(new_positions, genes_length)\n",
    "#         positions = np.append(positions,new_positions , axis=0)\n",
    "#         positions = np.append(positions, np.array([[ 1.00000000e-12 ,1.00000000e-12, 1.00000000e-12, 1.00000000e+00,\n",
    "#  0.00063497e-02, 1.00000000e-12, 1.00000000e-12, 1.00000000e-12]]), axis=0)\n",
    "        velocities = np.zeros_like(positions)\n",
    "        return positions, velocities\n",
    "#         positions = np.random.rand(self.population_size-2, genes_length)\n",
    "#         positions[:, :4] = np.random.uniform(-1, 1, [self.population_size-2, 4] )\n",
    "#         new_position = np.array([[1, 1, -1, 1]])\n",
    "#         new_positions = self.add_ones(new_position, genes_length-4)\n",
    "#         positions = np.append(positions,new_positions , axis=0)\n",
    "#         positions = np.append(positions, np.array([[1.e+0, 1.e+0, -1 ,1.e+0, 1.e-12, 1.e+0, 1.e-12, 1.e-12, 1.e-12, 1.e+0,\n",
    "#  1.e-12, 1.e-12]]), axis=0)\n",
    "#         velocities = np.zeros_like(positions)\n",
    "#         return positions, velocities\n",
    "\n",
    "    def update_velocity(self, velocity, position, personal_best, global_best):\n",
    "        inertia_term = self.inertia_weight * velocity\n",
    "        cognitive_term = self.cognitive_coefficient * np.random.rand() * (personal_best - position)\n",
    "        social_term = self.social_coefficient * np.random.rand() * (global_best - position)\n",
    "        return inertia_term + cognitive_term + social_term\n",
    "\n",
    "    def update_position(self, position, velocity):\n",
    "        new_position =np.clip(position + velocity,-1,1)\n",
    "\n",
    "#         new_position = (new_position, 0.00000000001,1)\n",
    "        return new_position\n",
    "#         new_position = position + velocity\n",
    "#         new_position[:, :4] = np.clip(new_position[:, :4], -1,1)\n",
    "#         new_position[:, 4:] = np.clip(new_position[:, 4:], 0.00000000001,1)\n",
    "#         return new_position\n",
    "\n",
    "    def calculate_fitness(self, positions, utility_function):\n",
    "        return np.array([utility_function(position) for position in positions])\n",
    "\n",
    "    def run_particle_swarm_optimization(self, para_genes_length, utility_function):\n",
    "        genes_length = para_genes_length\n",
    "        positions, velocities = self.initialize_particles(genes_length)\n",
    "\n",
    "        personal_best_positions = positions.copy()\n",
    "        personal_best_fitness = self.calculate_fitness(personal_best_positions, utility_function)\n",
    "\n",
    "        global_best_index = np.argmax(personal_best_fitness)\n",
    "        global_best_position = personal_best_positions[global_best_index]\n",
    "        global_best_fitness = personal_best_fitness[global_best_index]\n",
    "        stagnation_counter = 0\n",
    "        max_stagnation = 64\n",
    "        global_best_fitness_stag = 0\n",
    "\n",
    "        for generation in range(self.generations):\n",
    "            fitness = self.calculate_fitness(positions, utility_function)\n",
    "\n",
    "            update_personal_best = fitness > personal_best_fitness\n",
    "            personal_best_positions[update_personal_best] = positions[update_personal_best]\n",
    "            personal_best_fitness[update_personal_best] = fitness[update_personal_best]\n",
    "\n",
    "            # Update global best considering all particles\n",
    "            if np.max(personal_best_fitness) > global_best_fitness:\n",
    "                global_best_index = np.argmax(personal_best_fitness)\n",
    "                global_best_position = personal_best_positions[global_best_index]\n",
    "                global_best_fitness = personal_best_fitness[global_best_index]\n",
    "\n",
    "            # Introduce elitism\n",
    "            num_elite = int(self.population_size * 0.1)\n",
    "            sorted_indices = np.argsort(fitness)\n",
    "            elite_indices = sorted_indices[-num_elite:]\n",
    "            elite_positions = positions[elite_indices]\n",
    "            elite_fitness = fitness[elite_indices]\n",
    "\n",
    "            # Update personal best for elite particles\n",
    "            update_personal_best[elite_indices] = True\n",
    "            personal_best_positions[elite_indices] = elite_positions\n",
    "            personal_best_fitness[elite_indices] = elite_fitness\n",
    "\n",
    "            # Ensure elite particles survive into the next generation\n",
    "            positions[:num_elite] = elite_positions\n",
    "            velocities[:num_elite] = velocities[elite_indices]\n",
    "\n",
    "            # Update the remaining particles\n",
    "            remaining_indices = sorted_indices[:-num_elite]\n",
    "            velocities[remaining_indices] = self.update_velocity(velocities[remaining_indices], positions[remaining_indices], personal_best_positions[remaining_indices], global_best_position)\n",
    "            positions[remaining_indices] = self.update_position(positions[remaining_indices], velocities[remaining_indices])\n",
    "\n",
    "            # Update velocities and positions\n",
    "            velocities = self.update_velocity(velocities, positions, personal_best_positions, global_best_position)\n",
    "            positions = self.update_position(positions, velocities)\n",
    "\n",
    "            # Check for stagnation\n",
    "            if global_best_fitness_stag < global_best_fitness:\n",
    "                global_best_fitness_stag = global_best_fitness\n",
    "                stagnation_counter = 0\n",
    "            else:\n",
    "                stagnation_counter += 1\n",
    "\n",
    "            if stagnation_counter >= max_stagnation:\n",
    "                print(f\"\\nStopping the algorithm in generation {generation} due to {max_stagnation} generations of no improvement {global_best_position}.\")\n",
    "                break\n",
    "\n",
    "        # print(f\"Compare:{bool(min(utility_function(np.array([1,1,0,1,1,1,1,1])) -global_best_fitness,0))}\")\n",
    "        # print(f\"Compare:{bool(min(utility_function(np.array([5.65448355e-01, 1.00000000e+00, 1.00000000e-12, 1.00000000e-12, 9.83667516e-01, 1.00000000e-12, 1.00000000e-12 ,6.74240926e-03])) - global_best_fitness,0))}\")\n",
    "        print(\"\\nOptimization Complete.\")\n",
    "        print(\"Best position:\", global_best_position)\n",
    "        print(\"Best Utility:\", global_best_fitness)\n",
    "\n",
    "        return global_best_position\n"
   ]
  },
  {
   "cell_type": "code",
   "execution_count": 7,
   "metadata": {
    "ExecuteTime": {
     "end_time": "2024-04-01T05:28:05.136101Z",
     "start_time": "2024-04-01T05:28:05.121194Z"
    },
    "colab": {
     "base_uri": "https://localhost:8080/"
    },
    "id": "CisyNvrcB-C3",
    "outputId": "2dbd488c-b932-4357-a6a1-125b8a32c67a"
   },
   "outputs": [
    {
     "name": "stdout",
     "output_type": "stream",
     "text": [
      "This is prob_code[1. 1. 1. 1. 1.]\n",
      "time: 0 ns (started: 2024-04-02 10:09:27 +07:00)\n"
     ]
    }
   ],
   "source": [
    "prob = np.zeros(5)\n",
    "prob = prob +1\n",
    "print(f\"This is prob_code{prob}\")"
   ]
  },
  {
   "cell_type": "code",
   "execution_count": 10,
   "metadata": {
    "ExecuteTime": {
     "end_time": "2024-04-01T09:22:07.800398Z",
     "start_time": "2024-04-01T05:54:41.391600Z"
    },
    "colab": {
     "base_uri": "https://localhost:8080/"
    },
    "id": "_nUyEdvDWsVB",
    "outputId": "02041401-c30c-45ea-d753-36f31c50499d",
    "scrolled": false
   },
   "outputs": [
    {
     "name": "stdout",
     "output_type": "stream",
     "text": [
      "The autotime extension is already loaded. To reload it, use:\n",
      "  %reload_ext autotime\n"
     ]
    },
    {
     "name": "stderr",
     "output_type": "stream",
     "text": [
      "\u001b[36m(parallel_pso pid=15216)\u001b[0m C:\\Users\\minhd.DESKTOP-3Q40IVM\\AppData\\Local\\Temp\\ipykernel_16688\\963802269.py:171: DeprecationWarning: scipy.misc.derivative is deprecated in SciPy v1.10.0; and will be completely removed in SciPy v1.12.0. You may consider using findiff: https://github.com/maroba/findiff or numdifftools: https://github.com/pbrod/numdifftools\n"
     ]
    },
    {
     "name": "stdout",
     "output_type": "stream",
     "text": [
      "\u001b[36m(parallel_pso pid=15216)\u001b[0m \n",
      "\u001b[36m(parallel_pso pid=15216)\u001b[0m Optimization Complete.\n",
      "\u001b[36m(parallel_pso pid=15216)\u001b[0m Best position: [0.56376934 0.93417103 0.80008851 0.23609588]\n",
      "\u001b[36m(parallel_pso pid=15216)\u001b[0m Best Utility: -793539.343822185\n",
      "\u001b[36m(parallel_pso pid=11696)\u001b[0m Best position: [0.98381105 0.49698507 0.80868144 0.7090104 ]\n",
      "\u001b[36m(parallel_pso pid=11696)\u001b[0m Best position: [0.72982218 0.74855745 0.76911378 0.8099837 ]\n",
      "\u001b[36m(parallel_pso pid=3124)\u001b[0m \u001b[32m [repeated 12x across cluster]\u001b[0m\n",
      "\u001b[36m(parallel_pso pid=3124)\u001b[0m Optimization Complete.\u001b[32m [repeated 12x across cluster]\u001b[0m\n",
      "\u001b[36m(parallel_pso pid=3124)\u001b[0m Best position: [0.90463626 0.94714672 0.81581396 0.97330162]\u001b[32m [repeated 10x across cluster]\u001b[0m\n",
      "\u001b[36m(parallel_pso pid=3124)\u001b[0m Best Utility: 0.0\u001b[32m [repeated 12x across cluster]\u001b[0m\n",
      "\u001b[36m(parallel_pso pid=9476)\u001b[0m Best position: [0.13348639 0.22027107 0.05965969 0.1804773 ]\n",
      "[(array([0.56376934, 0.93417103, 0.80008851, 0.23609588]), -793539.343822185, 0.7935387800433938, 30), (array([0.89077307, 0.32446401, 0.89304601, 0.97168893]), -635064.2650983229, 0.6350636802685731, 31), (array([0.98381105, 0.49698507, 0.80868144, 0.7090104 ]), -550095.9282841715, 0.5500953432936967, 32), (array([0.83542914, 0.39919774, 0.91354872, 0.99188099]), -433495.6616843087, 0.4334950463038912, 33), (array([0.80886753, 0.51830345, 0.58816406, 0.86070316]), -389951.7930574099, 0.3899515563702917, 34), (array([0.79266007, 0.97611908, 0.75985787, 0.65219612]), -255837.22732694942, 0.25583719074551686, 35), (array([0.80649985, 0.74543861, 0.45100382, 0.91195935]), -211228.45593030195, 0.2112284777966291, 36), (array([0.85535751, 0.63389048, 0.8825735 , 0.92829779]), -120494.56820754768, 0.12049456770930078, 37), (array([0.72877833, 0.72992907, 0.76219739, 0.84176198]), -89273.51630203295, 0.08927351670276727, 38), (array([0.51367843, 0.97590162, 0.79929445, 0.93900325]), -45071.83427899433, 0.045071834278994326, 39), (array([0.90509066, 0.87832082, 0.83132834, 0.58092021]), -21524.973669628063, 0.021524973669628064, 40), (array([0.72982218, 0.74855745, 0.76911378, 0.8099837 ]), -9077.99977764213, 0.00907799977764213, 41), (array([0.90463626, 0.94714672, 0.81581396, 0.97330162]), 0.0, 0.0003589749445446009, 42), (array([0.66507082, 0.44250625, 0.51220954, 0.89318167]), 0.0, 0.0014537997412858215, 43), (array([0.57555169, 0.76249401, 0.27489488, 0.34850513]), 0.0, 0.0016897175407372123, 44), (array([0.98886609, 0.83830369, 0.04496955, 0.88329961]), 0.0002397713131303547, 3.096481465923167e-07, 45), (array([0.4278349 , 0.11042224, 0.08151392, 0.71889559]), 0.00013018557586086388, 0.0008281447122440218, 46), (array([0.59563724, 0.114105  , 0.50195716, 0.83542045]), 0.0, 2.66656930936946e-09, 47), (array([0.84840428, 0.06865916, 0.66633333, 0.29093323]), 0.0, 1.0258460374638302e-11, 48), (array([0.13348639, 0.22027107, 0.05965969, 0.1804773 ]), 0.0, 0.002404220637103035, 49), (array([0.39883134, 0.41318957, 0.76682617, 0.46434476]), 0.0, 7.468602844191422e-31, 50), (array([0.41630547, 0.24124141, 0.36437798, 0.41853772]), 0.0, 9.098743021032699e-25, 51), (array([0.54046447, 0.91770863, 0.74150033, 0.9920956 ]), 0.0, 4.299592379907309e-177, 52), (array([0.55865938, 0.90024181, 0.33299524, 0.11376042]), 0.0, 3.750128993085476e-101, 53), (array([0.61873627, 0.7262122 , 0.44730649, 0.88459868]), 0.0, 7.454814450321e-311, 54)]\n",
      "Optimization completed!\n"
     ]
    },
    {
     "data": {
      "text/plain": [
       "<Figure size 1200x600 with 0 Axes>"
      ]
     },
     "metadata": {},
     "output_type": "display_data"
    },
    {
     "name": "stdout",
     "output_type": "stream",
     "text": [
      "time: 17.5 s (started: 2024-04-02 10:27:20 +07:00)\n"
     ]
    },
    {
     "name": "stdout",
     "output_type": "stream",
     "text": [
      "\u001b[36m(parallel_pso pid=3124)\u001b[0m \n",
      "\u001b[36m(parallel_pso pid=3124)\u001b[0m Optimization Complete.\n",
      "\u001b[36m(parallel_pso pid=3124)\u001b[0m Best position: [0.61873627 0.7262122  0.44730649 0.88459868]\n",
      "\u001b[36m(parallel_pso pid=3124)\u001b[0m Best Utility: 0.0\n"
     ]
    }
   ],
   "source": [
    "#Heuristic search for adaptive precoder and shaping to optimize upper bound BER and precoding\n",
    "\n",
    "%load_ext autotime\n",
    "import matplotlib.pyplot as plt\n",
    "import numpy as np\n",
    "from scipy import special\n",
    "from scipy.stats import norm\n",
    "import ray\n",
    "# ray.init()\n",
    "\n",
    "class adaptive_PAM_env_04:\n",
    "    def __init__(self, optical_power, size):\n",
    "        super(adaptive_PAM_env_04, self).__init__()\n",
    "        self.M = size\n",
    "        self.size = self.M                                                            # Desired PAM order <6\n",
    "        self.ampnoise= 10**-7\n",
    "\n",
    "        self.optical_power_W= 10**(optical_power/10 - 3)\n",
    "\n",
    "        self.A_max= (self.optical_power_W / 0.44) *0.1 /self.ampnoise\n",
    "        self.x = (2*np.arange(1, self.M + 1)-self.M-1) * self.A_max / (self.M-1)\n",
    "#         print(self.x)\n",
    "        self.N_0 = 1                                                                              # Normalized Noise\n",
    "        self.sigma = 1\n",
    "        self.lamda = 0\n",
    "        self.h_u = 0\n",
    "        self.w = 0\n",
    "        self.eta = 0.44\n",
    "        # self.gamma = 1\n",
    "        self.LEDnumber = 4\n",
    "        self.X_amb = 10.93\n",
    "        self.i_amb = 5*10**(-12)\n",
    "        self.gamma = 0.73\n",
    "        self.A_r = 1 *10 **(-4)\n",
    "        self.Psi = 80*np.pi/180\n",
    "        self.B_mod = 20 * 10**6  #MHZ\n",
    "        # IDC = 0.1\n",
    "        self.e= 1.602176634 * 10**(-19)\n",
    "        self.power = 1                                                                                             # Power tính theo W\n",
    "        self.noise_power= 10**(-12.882)                                                                              # giong bai cu, tính theo W, bai reinforcement learning cuar liang xiao\n",
    "        self.LED_pos= np.matrix([[-np.sqrt(5), -np.sqrt(5), 3], [np.sqrt(5), -np.sqrt(5), 3],                        # vị trí mấy cái đèn\n",
    "                                [np.sqrt(5), np.sqrt(5), 3], [-np.sqrt(5), np.sqrt(5), 3]])\n",
    "        self.userstr =[0, 0, 0.5]                                                                                    # vị trí mấy cái ng dùng\n",
    "        self.Evestr = [2.5, 2.5, 0.5]                                                                                      # vị trí mấy cái ng nghe lén\n",
    "        self.User_pos = np.matrix(self.userstr)\n",
    "        self.Eve_pos = np.matrix(self.Evestr)\n",
    "        self.saveCap1=0\n",
    "        self.goc=0\n",
    "        self.goc_2=0\n",
    "        self.SER_ub = 0\n",
    "        self.secCap = 0\n",
    "        self.utility = 0\n",
    "    def Q_function(self, value):                                                                  # Homemade Q function\n",
    "        return 0.5 - 0.5 * special.erf(value / np.sqrt(2))  # Q(f) = 0.5 - 0.5 erf(f/sqrt(2))\n",
    "    def distance(self): #đã check, okeeee\n",
    "      H1 = np.zeros((4,1));\n",
    "      H2 = np.zeros((4,1));\n",
    "      T = H1\n",
    "      T_2 = H2\n",
    "      Phita_2= H2\n",
    "      Phita = H1\n",
    "      for i in range(self.LEDnumber):\n",
    "          for j in range(1): #sa\n",
    "                #Vector between led and user position\n",
    "              vector = self.LED_pos[i,:] - self.User_pos[0,:];\n",
    "              #eve\n",
    "              vector_2 = self.LED_pos[i,:] - self.Eve_pos[0,:];\n",
    "              #Distance between led and user\n",
    "              T[i,j] = np.linalg.norm(vector);\n",
    "              #eve\n",
    "              T_2[i,j] = np.linalg.norm(vector_2);\n",
    "\n",
    "      self.khoangcach_u=T\n",
    "      self.khoangcach_e=T_2\n",
    "      # print(f\"Phita {T, T_2}\")\n",
    "      return self.khoangcach_u, self.khoangcach_e\n",
    "  #công thức tính góc theo code của anh sơn, khá là dễ hiểu công thức hình học cấp 3\n",
    "    def angle(self): #okeee, vẫn đúng, anh sơn chơi độ, ở đây dùng radian\n",
    "        H1 = np.zeros((4,1));\n",
    "        H2 = np.zeros((4,1));\n",
    "        T = H1;\n",
    "        Phita = H1;\n",
    "        T_2 = H2\n",
    "        Phita_2= H2\n",
    "        for i in range(self.LEDnumber):\n",
    "            for j in range(1):\n",
    "                vector = self.LED_pos[i,:] - self.User_pos[0,:];\n",
    "                T[i,j] = np.linalg.norm(vector);\n",
    "\n",
    "                vector_2 = self.LED_pos[i,:] - self.Eve_pos[0,:];\n",
    "                T_2[i,j] = np.linalg.norm(vector_2);\n",
    "\n",
    "                Phita[i,j] = np.arccos(2.5/T[i,j]);\n",
    "                Phita_2[i,j] = np.arccos(2.5/T_2[i,j]);                           #chieu cao\n",
    "\n",
    "        self.goc=Phita\n",
    "        self.goc_2=Phita_2\n",
    "        # print(f\"Phita {Phita, Phita_2}\")\n",
    "        return self.goc, self.goc_2\n",
    "    def calc_channelgain(self): # gain theo bài anh sơn\n",
    "        self.SemiAngle       = 60 *np.pi/180\n",
    "        self.lambertian_angle= 120*np.pi/180\n",
    "        self.PD_FOV          = 60 *np.pi/180\n",
    "        self.PD_RefracIndex  = 1.5                  # Reflective Index\n",
    "        self.PD_OptFilGain   = 1                    # Optical Concentration Gain\n",
    "        self.PD_Area         = 10**(-4)             # Square meter\n",
    "        self.LEDConver       = 0.44                 # LED Conversion factor (W/A)\n",
    "        self.PD_Responsivity  = 0.54                 # Responsivity of the PDs (A/W)\n",
    "\n",
    "        l = -np.log(2)/np.log(np.cos(self.SemiAngle))\n",
    "        L = (l + 1) * (np.cos(self.goc))**l / (2 * np.pi)\n",
    "\n",
    "        G = self.PD_RefracIndex**2 / np.sin(self.PD_FOV)**2\n",
    "\n",
    "        d = self.khoangcach_u\n",
    "\n",
    "        # print(self.goc)\n",
    "        gain_mostafa = self.PD_Area * (1/(d**2)) *  G  * np.cos(self.goc) *L\n",
    "        # print(f\"Gain{gain_mostafa}\")\n",
    "        self.chanGain_b = np.vstack(gain_mostafa)*self.LEDConver *self.PD_Responsivity\n",
    "\n",
    "        l_2 = -np.log(2)/np.log(np.cos(self.SemiAngle))\n",
    "\n",
    "        G_2 = self.PD_RefracIndex**2 / np.sin(self.PD_FOV)**2\n",
    "        L_2 = (l_2 + 1) * (np.cos(self.goc_2))**l_2 / (2 * np.pi)\n",
    "        d_2 = self.khoangcach_e\n",
    "        gain_mostafa_2 = self.PD_Area *G_2  * (1/(d_2**2)) * np.cos(self.goc_2) *L_2\n",
    "        # print(f\"Gain{gain_mostafa_2}\")\n",
    "        self.chanGain_e = np.vstack(gain_mostafa_2)*self.LEDConver *self.PD_Responsivity\n",
    "#         print(self.chanGain_e)\n",
    "        return self.chanGain_b, self.chanGain_e\n",
    "\n",
    "    def entropy_prob(self, y, w, prob, h ):#P_t_dBm ):\n",
    "\n",
    "      p = 0\n",
    "      Gaus1 = 1 / np.sqrt(2 * np.pi * self.sigma**2)\n",
    "      noise = np.log2(2 * np.pi * np.e * self.sigma**2) / 2\n",
    "      for i in range(self.M):\n",
    "        t = np.sum(np.matmul(np.transpose(h),w )*self.x[i])\n",
    "\n",
    "        p +=  prob[i] * Gaus1* np.exp(-(y - t)**2 / (2 * self.sigma**2))\n",
    "      if p < 10**-300:\n",
    "        p = 10**-300\n",
    "      h_y= -p * np.log2(p)\n",
    "      return h_y\n",
    "\n",
    "    def gaussian11(self, y, W, prob, h):\n",
    "      f = 0\n",
    "      p = 0\n",
    "      Gaus1 = 1 / np.sqrt(2 * np.pi * self.sigma**2)\n",
    "\n",
    "      for i in range(self.M):\n",
    "          t = np.sum(np.matmul(np.transpose(h),W )*self.x[i])\n",
    "#           print(h.size)\n",
    "          Gaus2 = np.exp(-(y - t)**2 / (2 * self.sigma**2))\n",
    "          Gaus = Gaus1 * Gaus2\n",
    "          f += prob[i] * Gaus\n",
    "      # print(f)\n",
    "      if f <= 0:\n",
    "          f = 10**-300\n",
    "      return f\n",
    "    def entropy(self, y, W, prob, h):\n",
    "                    f_y = -self.gaussian11(y, W, prob, h)*np.log2(self.gaussian11(y, W, prob, h))\n",
    "                    return  f_y\n",
    "\n",
    "    def loggau(self,y, W, prob, h):\n",
    "      return np.log2(self.gaussian11(y, W, prob, h))\n",
    "\n",
    "\n",
    "    def deri_order(self,mu, W, prob, h):#variable x, derivative at a, order k\n",
    "        k_order = deri(self.loggau, x0 = mu, n=2, dx=1e-6, args=(W, prob, h), order = 11) / math.factorial(2)\n",
    "        return k_order\n",
    "\n",
    "\n",
    "    def zeroth_order_func3(self,W, prob, h):\n",
    "      zeroth = 0\n",
    "      for i in range(self.M ):\n",
    "        t = np.sum(np.matmul(np.transpose(h),W )*self.x[i])\n",
    "        zeroth = zeroth -self.loggau(t, W, prob, h)*prob[i]\n",
    "      return zeroth\n",
    "\n",
    "\n",
    "    def second_order_func_3(self,W, prob, h):\n",
    "      F_func = 0\n",
    "      sigma = 1\n",
    "      for i in range(self.M):\n",
    "        t = np.sum(np.matmul(np.transpose(h),W )*self.x[i])\n",
    "        F_func = F_func + self.deri_order(t, W, prob, h)*prob[i]\n",
    "      return F_func\n",
    "\n",
    "    def aproximmate_entropy(self,W, prob, h):\n",
    "      H = self.zeroth_order_func3(W, prob, h) - self.second_order_func_3(W, prob, h) *self.sigma**2\n",
    "      return H\n",
    "    def SER_ub1(self, W, prob, h):                 # find upper bound for error probability WCNC anh Thanh\n",
    "      pmn = 0\n",
    "#       print(prob)\n",
    "#       d = 0\n",
    "      sigma = 1\n",
    "      prob = prob/np.sum(prob)\n",
    "#       h = h *10**6\n",
    "      SER_ub = 0\n",
    "      for m in range(1, self.M + 1):\n",
    "        for n in range(1, self.M + 1):\n",
    "          if n != m:\n",
    "            # This is the closed form equation (17)\n",
    "            d = np.matmul(np.transpose(h),W ) * self.gamma * self.eta * (self.x[m-1] - self.x[n-1])\n",
    "            pmn = (1/2) * math.erfc((2* (sigma**2) * np.log(prob[m-1]/prob[n-1]) + d**2)/(2 * np.sqrt(2) * sigma * abs(d)))\n",
    "            SER_ub +=  prob[m - 1] * pmn\n",
    "\n",
    "      SER_ub = SER_ub /math.log2(self.M)\n",
    "#       if SER_ub < 1.998811994548001e-10:\n",
    "#             print(W)\n",
    "\n",
    "      return SER_ub\n",
    "    def calculate_utility(self,W ):                                                             # Calculate 1/P_e for objective function\n",
    "        utility = 0\n",
    "#         w_p = (np.array( w_p))\n",
    "#         W, prob = np.split(w_p, [4])\n",
    "#       prob = (prob)\n",
    "\n",
    "        prob = np.zeros(self.M)\n",
    "        prob = prob +1\n",
    "        prob = prob/np.sum(prob)\n",
    "#         print(W, prob)\n",
    "        #Aprox\n",
    "        H2 = self.aproximmate_entropy(W, prob, self.chanGain_b) - self.aproximmate_entropy(W, prob, self.chanGain_e)\n",
    "        # Real\n",
    "        # H2 = quad(self.entropy, -math.inf, math.inf, args=(W,prob, self.chanGain_b,), limit = 5000)[0] - quad(self.entropy, -math.inf, math.inf, args=(W,prob, self.chanGain_e,), limit = 5000)[0]\n",
    "        utility = H2\n",
    "        BER = self.SER_ub1(W, prob, self.chanGain_b)\n",
    "#         print(f\"BER= {BER}\")\n",
    "#         print(f\"result{w_p}\")\n",
    "#         print(f\"aprrox{H}\")\n",
    "#         print(f\"real{H}\")\n",
    "        if BER > 3.8* 1e-3:\n",
    "            utility = H2- 1000000 * BER\n",
    "#             self.A_max = np.array([0,0,0,0])\n",
    "        else:\n",
    "#             H = quad(self.entropy, -math.inf, math.inf, args=(W,prob, self.chanGain_b,), limit = 5000)[0] - quad(self.entropy, -math.inf, math.inf, args=(W,prob, self.chanGain_e,), limit = 5000)[0]\n",
    "            utility = H2\n",
    "#             print(f\"BER= {BER}\")\n",
    "#             print(f\"result{w_p}\")\n",
    "#             print(f\"aprrox{H2}\")\n",
    "\n",
    "        return utility\n",
    "\n",
    "\n",
    "cons_size = 16\n",
    "Min_power =36\n",
    "Max_power = 51\n",
    "Num_point = 1\n",
    "pam_env = adaptive_PAM_env_04(Max_power,cons_size)\n",
    "run_vari1 = np.linspace(Min_power,Num_point,Max_power)\n",
    "\n",
    "plt.figure(figsize=(12,6))\n",
    "output_ids_gen = []\n",
    "output_ids_simu = []\n",
    "output_ids_two = []\n",
    "output_ids_upper = []\n",
    "def run_pso_parallel(i,  size_p =cons_size , population_size= 2000 , inertia_weight=0.5,\n",
    "                     cognitive_coefficient=1.5, social_coefficient=1.5, generations=120):\n",
    "    pam_env = adaptive_PAM_env_04(i, size_p)\n",
    "    pam_env.distance()\n",
    "    pam_env.angle()\n",
    "    pam_env.calc_channelgain()\n",
    "    pso_algorithm = ParticleSwarmOptimization(population_size=population_size , inertia_weight=inertia_weight,\n",
    "                                               cognitive_coefficient=cognitive_coefficient,\n",
    "                                               social_coefficient=social_coefficient, generations=generations)\n",
    "    # Run the PSO algorithm\n",
    "\n",
    "    pos = pso_algorithm.run_particle_swarm_optimization(size_p, pam_env.calculate_utility)\n",
    "#     pos =np.array([0.83633827, 0.78016752, 0.10904184, 0.66795048])\n",
    "    prob = np.zeros(cons_size)\n",
    "    prob = prob +1\n",
    "    prob = prob/np.sum(prob)\n",
    "    cap = pam_env.calculate_utility(pos)\n",
    "    ber = pam_env.SER_ub1(pos, prob, pam_env.chanGain_b)\n",
    "    return pos, cap, ber, i\n",
    "\n",
    "# Parallelize the PSO algorithm using Ray\n",
    "@ray.remote\n",
    "def parallel_pso(i,  size_p ):\n",
    "    return run_pso_parallel(i,  size_p)\n",
    "\n",
    "# Set up Ray\n",
    "# ray.init()\n",
    "\n",
    "# Run PSO in parallel\n",
    "pso_result = np.zeros(Max_power)\n",
    "pso_position = np.zeros(1)\n",
    "pso_pos = ray.get([parallel_pso.remote(i,  size_p=cons_size ) for i in range(Min_power, Max_power, Num_point)])\n",
    "# BER =  []\n",
    "# CAP = []\n",
    "print(pso_pos)\n",
    "# print(pso_cap)\n",
    "# print(pso_ber)\n",
    "# for psotemp in pso_results:\n",
    "#   prob = (np.array( psotemp))\n",
    "#   W  = np.array([1,1,-1,1])\n",
    "#   pam_env.calc_channelgain()\n",
    "#   BER = np.append(BER,pam_env.SER_ub1(W, prob, pam_env.chanGain_b), axis = 0 )\n",
    "#   CAP = np.append(CAP,pam_env.calculate_utility(w_p ), axis = 0 )\n",
    "#   print(f\"BER = {pam_env.SER_ub1(W, prob, pam_env.chanGain_b)}\")\n",
    "#   print(f\"CAP = {pam_env.calculate_utility(w_p )}\")\n",
    "\n",
    "# plt.plot(run_vari1 ,  CAP, '-r')\n",
    "# plt.xlabel('Max Amplitude (dBm)',size=18)\n",
    "# plt.ylabel('Secrecy Capacity',size=18)\n",
    "# plt.legend(['Particle Swam'],fontsize=15)\n",
    "# plt.title(\"Secrecy Capacity\")\n",
    "# plt.ylim( 1e-4,  1e0)\n",
    "\n",
    "# plt.show()\n",
    "\n",
    "# print(pso_position)\n",
    "# plt(run_vari1 ,  BER, '-r')\n",
    "# plt.xlabel('Max Amplitude (dBm)',size=18)\n",
    "# plt.ylabel('Bit Error Rate',size=18)\n",
    "# plt.legend(['Particle Swam'],fontsize=15)\n",
    "# plt.title(\"Bit Error Rate\")\n",
    "\n",
    "\n",
    "print(\"Optimization completed!\")\n",
    "\n",
    "# pso_result = np.zeros(Max_power)\n",
    "# pso_position = np.zeros(1)\n",
    "# psotemp = 0\n",
    "\n",
    "# population_size=200\n",
    "# inertia_weight=0.5\n",
    "# cognitive_coefficient=1.5\n",
    "# social_coefficient=1.5\n",
    "# generations=300\n",
    "# pam_env = adaptive_PAM_env_04(Max_power, cons_size)\n",
    "# pam_env.distance()\n",
    "# pam_env.angle()\n",
    "# pam_env.calc_channelgain()\n",
    "# pso_algorithm = ParticleSwarmOptimization(population_size=population_size , inertia_weight=inertia_weight,\n",
    "#                                                cognitive_coefficient=cognitive_coefficient,\n",
    "#                                                social_coefficient=social_coefficient, generations=generations)\n",
    "\n",
    "# psotemp = pso_algorithm.run_particle_swarm_optimization(cons_size + 4, pam_env.calculate_utility)\n",
    "# np.append(pso_position, psotemp)\n",
    "# # print(f\"BER = {pam_env.SER_ub}\")\n",
    "\n",
    "# pso_result = pam_env.calculate_utility(psotemp)\n",
    "# w_p = (np.array( psotemp))\n",
    "# W, prob = np.split(w_p, [4])\n",
    "\n"
   ]
  },
  {
   "cell_type": "code",
   "execution_count": 9,
   "metadata": {
    "ExecuteTime": {
     "end_time": "2024-04-01T05:28:08.378881Z",
     "start_time": "2024-04-01T05:28:08.378881Z"
    },
    "id": "9huucXLJBVR0"
   },
   "outputs": [
    {
     "ename": "NameError",
     "evalue": "name 'pso_results' is not defined",
     "output_type": "error",
     "traceback": [
      "\u001b[1;31m---------------------------------------------------------------------------\u001b[0m",
      "\u001b[1;31mNameError\u001b[0m                                 Traceback (most recent call last)",
      "Cell \u001b[1;32mIn[9], line 1\u001b[0m\n\u001b[1;32m----> 1\u001b[0m \u001b[38;5;28mprint\u001b[39m(\u001b[43mpso_results\u001b[49m)\n",
      "\u001b[1;31mNameError\u001b[0m: name 'pso_results' is not defined"
     ]
    },
    {
     "name": "stdout",
     "output_type": "stream",
     "text": [
      "time: 2.05 s (started: 2024-04-02 10:09:57 +07:00)\n"
     ]
    }
   ],
   "source": [
    "print(pso_results)"
   ]
  },
  {
   "cell_type": "code",
   "execution_count": null,
   "metadata": {
    "ExecuteTime": {
     "end_time": "2024-04-01T05:28:08.379881Z",
     "start_time": "2024-04-01T05:28:08.379881Z"
    },
    "id": "GNJzStc5yAhZ"
   },
   "outputs": [],
   "source": [
    "p = np.array([psotemp])\n",
    "# p = np.array([9.84447764e-01, 9.84447764e-01, -1.14668294e-03, 9.82712270e-01,\n",
    "#               3.89518506e-04, 1.00000000e+00, 8.55036822e-04, 4.66356042e-04,\n",
    "#               3.98921473e-03, 9.92223882e-01, 5.95603846e-04, 1.17689200e-03,\n",
    "#               1.00000000e-11, 9.92223882e-01, 7.77611822e-03, 1.57226146e-03,\n",
    "#               2.02356585e-03, 9.92223882e-01, 4.54113397e-03, 3.28757838e-03])\n",
    "print(p)\n",
    "print(len(p))\n",
    "for i in range(len(p)):\n",
    "    plt.figure(figsize=(9, 3))\n",
    "\n",
    "    name = [-7,-5,-3, -1, 1, 3,5,7]\n",
    "    name_str = ['1','2','3','4','5','6','7','8']\n",
    "    LED = [1, 2, 3, 4]\n",
    "\n",
    "    for j in range(len(name)):\n",
    "        name_str[j] = str(name[j])\n",
    "    plt.subplot(121)\n",
    "    plt.bar(LED, p[i][:4])\n",
    "    plt.xlabel('LED')\n",
    "    plt.ylabel('Precoder')\n",
    "    # plt.title('Subplot 1')\n",
    "\n",
    "    a = p[i][4:]\n",
    "    for j in range(len(a)):\n",
    "        a[j] = a[j] / sum(p[i][4:])\n",
    "\n",
    "    plt.subplot(122)\n",
    "    plt.stem(name_str, a,'g*--')\n",
    "    plt.xlabel('Amplitude')\n",
    "    plt.ylabel('Probability')\n",
    "    # plt.title('Subplot 2')\n",
    "\n",
    "    plt.tight_layout()  # Adjust layout to prevent overlap\n",
    "    plt.show()\n"
   ]
  },
  {
   "cell_type": "markdown",
   "metadata": {
    "id": "1qSn6SnD0bH5"
   },
   "source": [
    "Sample Environment?"
   ]
  },
  {
   "cell_type": "markdown",
   "metadata": {
    "id": "O3OcoU29zj_P"
   },
   "source": [
    "Test Cal_sigma WCNC"
   ]
  },
  {
   "cell_type": "markdown",
   "metadata": {
    "id": "7_GDCAKozs4X"
   },
   "source": [
    "Test Cal A\n"
   ]
  },
  {
   "cell_type": "markdown",
   "metadata": {
    "id": "pt-o9GPfzygZ"
   },
   "source": [
    "Test cal_entropy"
   ]
  }
 ],
 "metadata": {
  "colab": {
   "provenance": []
  },
  "kernelspec": {
   "display_name": "Python 3 (ipykernel)",
   "language": "python",
   "name": "python3"
  },
  "language_info": {
   "codemirror_mode": {
    "name": "ipython",
    "version": 3
   },
   "file_extension": ".py",
   "mimetype": "text/x-python",
   "name": "python",
   "nbconvert_exporter": "python",
   "pygments_lexer": "ipython3",
   "version": "3.10.9"
  },
  "toc": {
   "base_numbering": 1,
   "nav_menu": {},
   "number_sections": true,
   "sideBar": true,
   "skip_h1_title": false,
   "title_cell": "Table of Contents",
   "title_sidebar": "Contents",
   "toc_cell": false,
   "toc_position": {},
   "toc_section_display": true,
   "toc_window_display": false
  },
  "varInspector": {
   "cols": {
    "lenName": 16,
    "lenType": 16,
    "lenVar": 40
   },
   "kernels_config": {
    "python": {
     "delete_cmd_postfix": "",
     "delete_cmd_prefix": "del ",
     "library": "var_list.py",
     "varRefreshCmd": "print(var_dic_list())"
    },
    "r": {
     "delete_cmd_postfix": ") ",
     "delete_cmd_prefix": "rm(",
     "library": "var_list.r",
     "varRefreshCmd": "cat(var_dic_list()) "
    }
   },
   "oldHeight": 122.844,
   "position": {
    "height": "40px",
    "left": "1096px",
    "right": "20px",
    "top": "120px",
    "width": "250px"
   },
   "types_to_exclude": [
    "module",
    "function",
    "builtin_function_or_method",
    "instance",
    "_Feature"
   ],
   "varInspector_section_display": "none",
   "window_display": false
  }
 },
 "nbformat": 4,
 "nbformat_minor": 1
}
