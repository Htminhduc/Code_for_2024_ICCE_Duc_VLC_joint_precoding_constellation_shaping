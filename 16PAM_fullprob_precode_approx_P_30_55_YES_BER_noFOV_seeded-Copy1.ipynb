{
 "cells": [
  {
   "cell_type": "code",
   "execution_count": 1,
   "metadata": {
    "ExecuteTime": {
     "end_time": "2024-04-04T10:10:02.636304Z",
     "start_time": "2024-04-04T10:10:02.622827Z"
    },
    "colab": {
     "base_uri": "https://localhost:8080/"
    },
    "id": "SRv-Ru5pXrN1",
    "outputId": "d16a6789-315e-41dc-97d3-c54d5d299ff0"
   },
   "outputs": [],
   "source": [
    "# pip install -U \"ray[default]\""
   ]
  },
  {
   "cell_type": "code",
   "execution_count": 2,
   "metadata": {
    "ExecuteTime": {
     "end_time": "2024-04-04T10:10:02.652263Z",
     "start_time": "2024-04-04T10:10:02.637301Z"
    },
    "colab": {
     "base_uri": "https://localhost:8080/"
    },
    "id": "fFJi-TiIyAhO",
    "outputId": "b1fb2023-f801-4222-ba93-1234bcda69a4"
   },
   "outputs": [],
   "source": [
    "# pip install secure-smtplib"
   ]
  },
  {
   "cell_type": "code",
   "execution_count": 3,
   "metadata": {
    "ExecuteTime": {
     "end_time": "2024-04-04T10:10:02.668219Z",
     "start_time": "2024-04-04T10:10:02.654266Z"
    },
    "colab": {
     "base_uri": "https://localhost:8080/"
    },
    "id": "CLNTNaB9XpB0",
    "outputId": "8ac86f40-1965-4209-cdb1-f198db15b7f0"
   },
   "outputs": [],
   "source": [
    "# pip install ipython-autotime"
   ]
  },
  {
   "cell_type": "markdown",
   "metadata": {
    "id": "zFGGpSXPhg5t"
   },
   "source": [
    "This code is for 8 PAM, changing precoding and probabilistic shaping to obtain optimized secrecy capacity and BER from 10 to 40 dbm (with ber constrain) (RAY)\n"
   ]
  },
  {
   "cell_type": "code",
   "execution_count": 4,
   "metadata": {
    "ExecuteTime": {
     "end_time": "2024-04-04T10:10:03.755415Z",
     "start_time": "2024-04-04T10:10:02.670214Z"
    },
    "colab": {
     "base_uri": "https://localhost:8080/"
    },
    "id": "PBzpBhFhWWZE",
    "outputId": "71ef6454-3ea8-4b9d-d81c-826419c09cda"
   },
   "outputs": [
    {
     "name": "stderr",
     "output_type": "stream",
     "text": [
      "2024-04-04 17:10:03,744\tINFO util.py:154 -- Outdated packages:\n",
      "  ipywidgets==7.6.5 found, needs ipywidgets>=8\n",
      "Run `pip install -U ipywidgets`, then restart the notebook server for rich notebook output.\n"
     ]
    },
    {
     "name": "stdout",
     "output_type": "stream",
     "text": [
      "time: 313 ms (started: 2024-04-04 17:10:03 +07:00)\n"
     ]
    }
   ],
   "source": [
    "import numpy as np\n",
    "import math\n",
    "import matplotlib.pyplot as plt\n",
    "from scipy.integrate import quad as quad\n",
    "from matplotlib import pyplot as plt\n",
    "import matplotlib.colors as mcolors\n",
    "from numpy.lib.function_base import angle\n",
    "from collections import defaultdict\n",
    "import os\n",
    "# from scipy (torch.__version__)\n",
    "from scipy.misc import derivative as deri\n",
    "%load_ext autotime\n",
    "import ray\n",
    "from IPython.display import display, HTML"
   ]
  },
  {
   "cell_type": "code",
   "execution_count": 5,
   "metadata": {
    "ExecuteTime": {
     "end_time": "2024-04-04T10:10:03.787329Z",
     "start_time": "2024-04-04T10:10:03.756412Z"
    },
    "colab": {
     "base_uri": "https://localhost:8080/"
    },
    "id": "awmLfU72yAhQ",
    "outputId": "5811130e-0633-4b9a-ac8e-9e76a0853471"
   },
   "outputs": [
    {
     "name": "stdout",
     "output_type": "stream",
     "text": [
      "time: 0 ns (started: 2024-04-04 17:10:03 +07:00)\n"
     ]
    }
   ],
   "source": [
    "import numpy as np\n",
    "\n",
    "class ParticleSwarmOptimization:\n",
    "    def __init__(self, population_size, inertia_weight, cognitive_coefficient, social_coefficient, generations):\n",
    "        self.population_size = population_size\n",
    "        self.inertia_weight = inertia_weight\n",
    "        self.cognitive_coefficient = cognitive_coefficient\n",
    "        self.social_coefficient = social_coefficient\n",
    "        self.generations = generations\n",
    "    def add_ones(self, positions, x):\n",
    "      ones_to_add = np.ones((positions.shape[0], x), dtype=int)\n",
    "      return np.concatenate((positions, ones_to_add), axis=1)\n",
    "    def initialize_particles(self, genes_length):\n",
    "        # positions = np.random.rand(self.population_size-2, genes_length)\n",
    "        \n",
    "        positions = np.random.uniform(0.0000000001, 1, [self.population_size-6, int( genes_length+4)] )\n",
    "        positions[:, :4] = np.random.uniform(-1, 1, [self.population_size-6, 4] )\n",
    "        \n",
    "#         new_positions = self.add_ones(new_positions, genes_length)\n",
    "#         positions = np.append(positions,new_positions , axis=0)\n",
    "        positions = np.append(positions, np.array([[ 1,1,-1,1,1.00000000e-12 ,1.00000000e-12, 1.00000000e-12, 1.00000000e-12,\n",
    "1.00000000e-12, 1.00000000e-12, 1.00000000e-12, 1.00000000e-12, 1.00000000e-12 ,1.00000000e-12, 1.00000000e-12, 1.00000000e+00,\n",
    " 1.00000000e-12, 1.00000000e-12, 1.00000000e-12, 1.00000000e-12]]), axis=0)\n",
    "        positions = np.append(positions, np.array([[ 1,1,1,1,1.00000000e-12 ,1.00000000e-12, 1.00000000e-12, 1.00000000e-12,\n",
    "1.00000000e-12, 1.00000000e-12, 1.00000000e-12, 1.00000000e-12, 1.00000000e-12 ,1.00000000e-12, 1.00000000e-12, 1.00000000e+00,\n",
    " 1.00000000e-12, 1.00000000e-12, 1.00000000e-12, 1.00000000e-12]]), axis=0)\n",
    "        positions = np.append(positions, np.array([[ 1,1,-1,1,1 ,1.00000000e-12, 1.00000000e-12, 1.00000000e-12,\n",
    "1.00000000e-12, 1.00000000e-12, 1.00000000e-12, 1.00000000e-12, 1.00000000e-12 ,1.00000000e-12, 1.00000000e-12, 1.00000000e-12,\n",
    " 1.00000000e-12, 1.00000000e-12, 1.00000000e-12, 1]]), axis=0)\n",
    "        positions = np.append(positions, np.array([[ 1,1,1,1,1 ,1.00000000e-12, 1.00000000e-12, 1.00000000e-12,\n",
    "1.00000000e-12, 1.00000000e-12, 1.00000000e-12, 1.00000000e-12, 1.00000000e-12 ,1.00000000e-12, 1.00000000e-12, 1.00000000e-12,\n",
    " 1.00000000e-12, 1.00000000e-12, 1.00000000e-12, 1]]), axis=0)\n",
    "        positions = np.append(positions, np.array([[ 1.00000000e+00, 1.00000000e-10, -1, 1.00000000e-10,\n",
    "       1,1,1,1,1,1,1,1,1,1,1,1,1,1,1,1]]), axis=0)\n",
    "        positions = np.append(positions, np.array([[ 1.00000000e+00, 1.00000000e+00, -1, 1.00000000e+00,\n",
    "       1,1,1,1,1,1,1,1,1,1,1,1,1,1,1,1]]), axis=0)\n",
    "#         positions = [[val + 0.0000000001 if val == 0 else val for val in array] for array in positions]\n",
    "        velocities = np.zeros_like(positions)\n",
    "        return positions, velocities\n",
    "\n",
    "\n",
    "    def update_velocity(self, velocity, position, personal_best, global_best):\n",
    "        inertia_term = self.inertia_weight * velocity\n",
    "        cognitive_term = self.cognitive_coefficient * np.random.rand() * (personal_best - position)\n",
    "        social_term = self.social_coefficient * np.random.rand() * (global_best - position)\n",
    "        return inertia_term + cognitive_term + social_term\n",
    "\n",
    "    def update_position(self, position, velocity):\n",
    "        new_position = position + velocity\n",
    "\n",
    "        new_position[:, :4] = np.clip(new_position[:, :4], -1,1)\n",
    "        new_position[:, 4:] = np.clip(new_position[:, 4:], 0.00000000001,1)\n",
    "#         positions = [[val + 0.000000001 if val == 0 else val for val in array] for array in positions]\n",
    "   \n",
    "#         new_position = (new_position, 0.00000000001,1)\n",
    "        return new_position\n",
    "\n",
    "\n",
    "    def calculate_fitness(self, positions, utility_function):\n",
    "        return np.array([utility_function(position) for position in positions])\n",
    "\n",
    "    def run_particle_swarm_optimization(self, para_genes_length, utility_function):\n",
    "        genes_length = para_genes_length\n",
    "        positions, velocities = self.initialize_particles(genes_length)\n",
    "\n",
    "        personal_best_positions = positions.copy()\n",
    "        personal_best_fitness = self.calculate_fitness(personal_best_positions, utility_function)\n",
    "\n",
    "        global_best_index = np.argmax(personal_best_fitness)\n",
    "        global_best_position = personal_best_positions[global_best_index]\n",
    "        global_best_fitness = personal_best_fitness[global_best_index]\n",
    "        stagnation_counter = 0\n",
    "        max_stagnation = 49\n",
    "        global_best_fitness_stag = 0\n",
    "\n",
    "        for generation in range(self.generations):\n",
    "            fitness = self.calculate_fitness(positions, utility_function)\n",
    "\n",
    "            update_personal_best = fitness > personal_best_fitness\n",
    "            personal_best_positions[update_personal_best] = positions[update_personal_best]\n",
    "            personal_best_fitness[update_personal_best] = fitness[update_personal_best]\n",
    "\n",
    "            # Update global best considering all particles\n",
    "            if np.max(personal_best_fitness) > global_best_fitness:\n",
    "                global_best_index = np.argmax(personal_best_fitness)\n",
    "                global_best_position = personal_best_positions[global_best_index]\n",
    "                global_best_fitness = personal_best_fitness[global_best_index]\n",
    "\n",
    "            # Introduce elitism\n",
    "            num_elite = int(self.population_size * 0.1)\n",
    "            sorted_indices = np.argsort(fitness)\n",
    "            elite_indices = sorted_indices[-num_elite:]\n",
    "            elite_positions = positions[elite_indices]\n",
    "            elite_fitness = fitness[elite_indices]\n",
    "\n",
    "            # Update personal best for elite particles\n",
    "            update_personal_best[elite_indices] = True\n",
    "            personal_best_positions[elite_indices] = elite_positions\n",
    "            personal_best_fitness[elite_indices] = elite_fitness\n",
    "\n",
    "            # Ensure elite particles survive into the next generation\n",
    "            positions[:num_elite] = elite_positions\n",
    "            velocities[:num_elite] = velocities[elite_indices]\n",
    "\n",
    "            # Update the remaining particles\n",
    "            remaining_indices = sorted_indices[:-num_elite]\n",
    "            velocities[remaining_indices] = self.update_velocity(velocities[remaining_indices], positions[remaining_indices], personal_best_positions[remaining_indices], global_best_position)\n",
    "            positions[remaining_indices] = self.update_position(positions[remaining_indices], velocities[remaining_indices])\n",
    "\n",
    "            # Update velocities and positions\n",
    "            velocities = self.update_velocity(velocities, positions, personal_best_positions, global_best_position)\n",
    "            positions = self.update_position(positions, velocities)\n",
    "\n",
    "            # Check for stagnation\n",
    "            if global_best_fitness_stag < global_best_fitness:\n",
    "                global_best_fitness_stag = global_best_fitness\n",
    "                stagnation_counter = 0\n",
    "            else:\n",
    "                stagnation_counter += 1\n",
    "\n",
    "            if stagnation_counter >= max_stagnation:\n",
    "                print(f\"\\nStopping the algorithm in generation {generation} due to {max_stagnation} generations of no improvement {global_best_position}.\")\n",
    "                break\n",
    "\n",
    "        # print(f\"Compare:{bool(min(utility_function(np.array([1,1,0,1,1,1,1,1])) -global_best_fitness,0))}\")\n",
    "        # print(f\"Compare:{bool(min(utility_function(np.array([5.65448355e-01, 1.00000000e+00, 1.00000000e-12, 1.00000000e-12, 9.83667516e-01, 1.00000000e-12, 1.00000000e-12 ,6.74240926e-03])) - global_best_fitness,0))}\")\n",
    "        print(\"\\nOptimization Complete.\")\n",
    "        print(\"Best position:\", global_best_position)\n",
    "        print(\"Best Utility:\", global_best_fitness)\n",
    "\n",
    "        return global_best_position\n"
   ]
  },
  {
   "cell_type": "code",
   "execution_count": 6,
   "metadata": {
    "ExecuteTime": {
     "end_time": "2024-04-04T23:15:32.201745Z",
     "start_time": "2024-04-04T10:10:03.788327Z"
    },
    "code_folding": [],
    "colab": {
     "base_uri": "https://localhost:8080/"
    },
    "id": "_nUyEdvDWsVB",
    "outputId": "7b2916c6-ca35-4f34-9773-6b69812e429e"
   },
   "outputs": [
    {
     "name": "stdout",
     "output_type": "stream",
     "text": [
      "The autotime extension is already loaded. To reload it, use:\n",
      "  %reload_ext autotime\n"
     ]
    },
    {
     "name": "stderr",
     "output_type": "stream",
     "text": [
      "2024-04-04 17:10:06,656\tINFO worker.py:1715 -- Started a local Ray instance. View the dashboard at \u001b[1m\u001b[32m127.0.0.1:8265 \u001b[39m\u001b[22m\n",
      "\u001b[36m(parallel_pso pid=12620)\u001b[0m C:\\Users\\DELL\\AppData\\Local\\Temp\\ipykernel_28248\\3549257137.py:214: RuntimeWarning: divide by zero encountered in true_divide\n",
      "\u001b[36m(parallel_pso pid=12620)\u001b[0m C:\\Users\\DELL\\AppData\\Local\\Temp\\ipykernel_28248\\3549257137.py:214: RuntimeWarning: invalid value encountered in true_divide\n",
      "\u001b[36m(parallel_pso pid=20680)\u001b[0m C:\\Users\\DELL\\AppData\\Local\\Temp\\ipykernel_28248\\3549257137.py:214: RuntimeWarning: divide by zero encountered in true_divide\u001b[32m [repeated 2x across cluster] (Ray deduplicates logs by default. Set RAY_DEDUP_LOGS=0 to disable log deduplication, or see https://docs.ray.io/en/master/ray-observability/ray-logging.html#log-deduplication for more options.)\u001b[0m\n",
      "\u001b[36m(parallel_pso pid=20680)\u001b[0m C:\\Users\\DELL\\AppData\\Local\\Temp\\ipykernel_28248\\3549257137.py:214: RuntimeWarning: invalid value encountered in true_divide\u001b[32m [repeated 2x across cluster]\u001b[0m\n",
      "\u001b[36m(parallel_pso pid=11032)\u001b[0m C:\\Users\\DELL\\AppData\\Local\\Temp\\ipykernel_28248\\3549257137.py:214: RuntimeWarning: divide by zero encountered in true_divide\n",
      "\u001b[36m(parallel_pso pid=11032)\u001b[0m C:\\Users\\DELL\\AppData\\Local\\Temp\\ipykernel_28248\\3549257137.py:214: RuntimeWarning: invalid value encountered in true_divide\n",
      "\u001b[36m(parallel_pso pid=21364)\u001b[0m C:\\Users\\DELL\\AppData\\Local\\Temp\\ipykernel_28248\\3549257137.py:214: RuntimeWarning: divide by zero encountered in true_divide\n",
      "\u001b[36m(parallel_pso pid=21364)\u001b[0m C:\\Users\\DELL\\AppData\\Local\\Temp\\ipykernel_28248\\3549257137.py:214: RuntimeWarning: invalid value encountered in true_divide\n",
      "\u001b[36m(parallel_pso pid=30120)\u001b[0m C:\\Users\\DELL\\AppData\\Local\\Temp\\ipykernel_28248\\3549257137.py:214: RuntimeWarning: divide by zero encountered in true_divide\n",
      "\u001b[36m(parallel_pso pid=30120)\u001b[0m C:\\Users\\DELL\\AppData\\Local\\Temp\\ipykernel_28248\\3549257137.py:214: RuntimeWarning: invalid value encountered in true_divide\n"
     ]
    },
    {
     "name": "stdout",
     "output_type": "stream",
     "text": [
      "\u001b[36m(parallel_pso pid=3796)\u001b[0m \n",
      "\u001b[36m(parallel_pso pid=3796)\u001b[0m Stopping the algorithm in generation 98 due to 49 generations of no improvement [ 1.00000000e+00  1.00000000e+00 -1.07084381e-01  1.00000000e+00\n",
      "\u001b[36m(parallel_pso pid=3796)\u001b[0m   1.00000000e-11  1.00000000e-11  1.00000000e-11  1.00000000e-11\n",
      "\u001b[36m(parallel_pso pid=3796)\u001b[0m   3.63493726e-01  1.00000000e-11  1.00000000e-11  1.00000000e-11\n",
      "\u001b[36m(parallel_pso pid=3796)\u001b[0m   1.00000000e-11  1.00000000e-11  1.00000000e-11  9.98294946e-01\n",
      "\u001b[36m(parallel_pso pid=3796)\u001b[0m   1.00000000e-11  1.00000000e-11  1.00000000e-11  1.00000000e-11].\n",
      "\u001b[36m(parallel_pso pid=3796)\u001b[0m \n",
      "\u001b[36m(parallel_pso pid=3796)\u001b[0m Optimization Complete.\n",
      "\u001b[36m(parallel_pso pid=3796)\u001b[0m Best position: [ 1.00000000e+00  1.00000000e+00 -1.07084381e-01  1.00000000e+00\n",
      "\u001b[36m(parallel_pso pid=3796)\u001b[0m   1.00000000e-11  1.00000000e-11  1.00000000e-11  1.00000000e-11\n",
      "\u001b[36m(parallel_pso pid=3796)\u001b[0m   3.63493726e-01  1.00000000e-11  1.00000000e-11  1.00000000e-11\n",
      "\u001b[36m(parallel_pso pid=3796)\u001b[0m   1.00000000e-11  1.00000000e-11  1.00000000e-11  9.98294946e-01\n",
      "\u001b[36m(parallel_pso pid=3796)\u001b[0m   1.00000000e-11  1.00000000e-11  1.00000000e-11  1.00000000e-11]\n",
      "\u001b[36m(parallel_pso pid=3796)\u001b[0m Best Utility: 0.831792190952795\n",
      "\u001b[36m(parallel_pso pid=29240)\u001b[0m Stopping the algorithm in generation 99 due to 49 generations of no improvement [9.99998402e-01 9.99861950e-01 9.51848698e-01 9.99999615e-01\n",
      "\u001b[36m(parallel_pso pid=29240)\u001b[0m Best position: [9.99998402e-01 9.99861950e-01 9.51848698e-01 9.99999615e-01\n",
      "\u001b[36m(parallel_pso pid=29240)\u001b[0m  1.00000000e-11 1.00000000e-11 1.00000000e-11 1.00000000e+00]\u001b[32m [repeated 10x across cluster]\u001b[0m\n",
      "\u001b[36m(parallel_pso pid=29240)\u001b[0m Optimization Complete.\n",
      "\u001b[36m(parallel_pso pid=29240)\u001b[0m Best Utility: 0.001539130491933438\n",
      "\u001b[36m(parallel_pso pid=20680)\u001b[0m Stopping the algorithm in generation 110 due to 49 generations of no improvement [ 1.00000000e+00  5.85209231e-01 -6.31308689e-02  3.79681066e-01\n",
      "\u001b[36m(parallel_pso pid=20680)\u001b[0m Optimization Complete.\n",
      "\u001b[36m(parallel_pso pid=20680)\u001b[0m Best position: [ 1.00000000e+00  5.85209231e-01 -6.31308689e-02  3.79681066e-01\n",
      "\u001b[36m(parallel_pso pid=20680)\u001b[0m Best Utility: 2.0109695538196855\n",
      "\u001b[36m(parallel_pso pid=20680)\u001b[0m   1.91258001e-02  1.00000000e-11  1.00000000e-11  4.08889296e-01]\u001b[32m [repeated 10x across cluster]\u001b[0m\n",
      "\u001b[36m(parallel_pso pid=30760)\u001b[0m Stopping the algorithm in generation 116 due to 49 generations of no improvement [ 9.99243180e-01  1.00000000e+00 -1.14294337e-01  1.00000000e+00\n",
      "\u001b[36m(parallel_pso pid=30760)\u001b[0m Optimization Complete.\n",
      "\u001b[36m(parallel_pso pid=30760)\u001b[0m Best position: [ 9.99243180e-01  1.00000000e+00 -1.14294337e-01  1.00000000e+00\n",
      "\u001b[36m(parallel_pso pid=30760)\u001b[0m Best Utility: 2.6716697417703394\n",
      "\u001b[36m(parallel_pso pid=30760)\u001b[0m   5.78403321e-01  7.01907159e-02  1.00000000e-11  8.78484794e-01]\u001b[32m [repeated 10x across cluster]\u001b[0m\n",
      "\u001b[36m(parallel_pso pid=9548)\u001b[0m Stopping the algorithm in generation 138 due to 49 generations of no improvement [1.00000000e+00 9.95215459e-01 9.93384864e-01 1.00000000e+00\n",
      "\u001b[36m(parallel_pso pid=9548)\u001b[0m Optimization Complete.\n",
      "\u001b[36m(parallel_pso pid=9548)\u001b[0m Best position: [1.00000000e+00 9.95215459e-01 9.93384864e-01 1.00000000e+00\n",
      "\u001b[36m(parallel_pso pid=9548)\u001b[0m Best Utility: 0.0014535587141244477\n",
      "\u001b[36m(parallel_pso pid=9548)\u001b[0m  3.10485644e-03 1.00000000e-11 1.00000000e-11 1.00000000e+00]\u001b[32m [repeated 10x across cluster]\u001b[0m\n",
      "\u001b[36m(parallel_pso pid=12620)\u001b[0m Best position: [ 1.00000000e+00  1.00000000e+00 -1.14182741e-01  1.00000000e+00\n",
      "\u001b[36m(parallel_pso pid=12620)\u001b[0m Optimization Complete.\n",
      "\u001b[36m(parallel_pso pid=12620)\u001b[0m Best Utility: 1.9123198406290807\n",
      "\u001b[36m(parallel_pso pid=12620)\u001b[0m   1.00000000e-11  1.00000000e-11  1.00000000e-11  5.19300358e-01]\u001b[32m [repeated 5x across cluster]\u001b[0m\n",
      "\u001b[36m(parallel_pso pid=20120)\u001b[0m Optimization Complete.\n",
      "\u001b[36m(parallel_pso pid=20120)\u001b[0m Best Utility: 2.6747106276083956\n",
      "\u001b[36m(parallel_pso pid=20120)\u001b[0m Best position: [ 1.00000000e+00  8.11672153e-01 -1.04673252e-01  1.00000000e+00\n",
      "\u001b[36m(parallel_pso pid=20120)\u001b[0m   5.70744389e-08  1.00000000e-11  1.00000000e+00  5.89504221e-02]\u001b[32m [repeated 5x across cluster]\u001b[0m\n",
      "\u001b[36m(parallel_pso pid=21364)\u001b[0m Best position: [ 1.00000000e+00  1.00000000e+00 -1.14323388e-01  1.00000000e+00\n",
      "\u001b[36m(parallel_pso pid=21364)\u001b[0m Optimization Complete.\n",
      "\u001b[36m(parallel_pso pid=21364)\u001b[0m Best Utility: 2.057576792727075\n",
      "\u001b[36m(parallel_pso pid=21364)\u001b[0m   1.00000000e-11  2.67540792e-02  1.00000000e-11  1.00000000e+00]\u001b[32m [repeated 5x across cluster]\u001b[0m\n",
      "\u001b[36m(parallel_pso pid=30120)\u001b[0m Optimization Complete.\n",
      "\u001b[36m(parallel_pso pid=30120)\u001b[0m Best position: [-9.16551408e-01 -7.21590868e-01  9.89948563e-02 -1.00000000e+00\n",
      "\u001b[36m(parallel_pso pid=30120)\u001b[0m Best Utility: 3.114536902828345\n",
      "\u001b[36m(parallel_pso pid=30120)\u001b[0m   2.77568906e-01  4.88856580e-01  1.00000000e-11  5.22893039e-01]\u001b[32m [repeated 5x across cluster]\u001b[0m\n",
      "[(array([ 1.00000000e+00,  1.00000000e+00, -1.07084381e-01,  1.00000000e+00,\n",
      "        1.00000000e-11,  1.00000000e-11,  1.00000000e-11,  1.00000000e-11,\n",
      "        3.63493726e-01,  1.00000000e-11,  1.00000000e-11,  1.00000000e-11,\n",
      "        1.00000000e-11,  1.00000000e-11,  1.00000000e-11,  9.98294946e-01,\n",
      "        1.00000000e-11,  1.00000000e-11,  1.00000000e-11,  1.00000000e-11]), 0.8309650785247182, 0.003799944317115577, 36), (array([1.00000000e+00, 9.95215459e-01, 9.93384864e-01, 1.00000000e+00,\n",
      "       1.00000000e+00, 1.00000000e-11, 1.00000000e-11, 1.00000000e-11,\n",
      "       1.00000000e-11, 1.00000000e-11, 1.00000000e-11, 1.00000000e-11,\n",
      "       1.00000000e-11, 1.00000000e-11, 1.86272811e-03, 1.00000000e-11,\n",
      "       3.10485644e-03, 1.00000000e-11, 1.00000000e-11, 1.00000000e+00]), 0.0007798819593696216, 0.00039034863959972247, 37), (array([9.99998402e-01, 9.99861950e-01, 9.51848698e-01, 9.99999615e-01,\n",
      "       1.00000000e+00, 5.75218119e-07, 1.00000000e-11, 2.54507792e-07,\n",
      "       1.00000000e-11, 4.08431066e-07, 1.00000000e-11, 7.56876861e-07,\n",
      "       1.08943403e-06, 1.00000000e-11, 3.19186549e-07, 2.71027909e-06,\n",
      "       1.00000000e-11, 1.00000000e-11, 1.00000000e-11, 1.00000000e+00]), 0.0008038639018517202, 4.5567591944297624e-07, 38), (array([ 1.00000000e+00,  1.00000000e+00, -1.14182741e-01,  1.00000000e+00,\n",
      "        5.44561267e-01,  1.00000000e-11,  1.00000000e-11,  8.85738290e-02,\n",
      "        1.00000000e-11,  1.00000000e-11,  1.00000000e-11,  3.85875821e-02,\n",
      "        1.00000000e-11,  1.00000000e-11,  1.00000000e-11,  5.46304142e-01,\n",
      "        1.00000000e-11,  1.00000000e-11,  1.00000000e-11,  5.19300358e-01]), 1.9118848238508912, 0.0037998904795528013, 39), (array([ 1.00000000e+00,  1.00000000e+00, -1.14323388e-01,  1.00000000e+00,\n",
      "        1.00000000e+00,  1.00000000e-11,  1.00000000e-11,  1.00000000e+00,\n",
      "        1.00000000e-11,  1.00000000e-11,  1.00000000e+00,  1.00000000e-11,\n",
      "        1.00000000e-11,  1.00000000e-11,  5.24667637e-03,  1.00000000e-11,\n",
      "        1.00000000e-11,  2.67540792e-02,  1.00000000e-11,  1.00000000e+00]), 2.057576792727075, 0.003798728348936187, 40), (array([ 1.00000000e+00,  5.85209231e-01, -6.31308689e-02,  3.79681066e-01,\n",
      "        5.32387441e-01,  1.00000000e-11,  1.00000000e-11,  1.00000000e-11,\n",
      "        1.00000000e-11,  1.00000000e-11,  3.30026593e-01,  1.00000000e-11,\n",
      "        1.00000000e-11,  1.00000000e-11,  7.13531778e-01,  2.85374889e-03,\n",
      "        1.91258001e-02,  1.00000000e-11,  1.00000000e-11,  4.08889296e-01]), 2.010128388724314, 0.003799440217315306, 41), (array([ 9.99243180e-01,  1.00000000e+00, -1.14294337e-01,  1.00000000e+00,\n",
      "        5.57149004e-01,  9.43035198e-03,  1.00000000e-11,  6.98463545e-01,\n",
      "        2.11013372e-05,  1.88860278e-07,  3.79939720e-05,  6.97736341e-01,\n",
      "        9.54918112e-04,  7.01394573e-06,  6.95708988e-01,  1.00000000e-11,\n",
      "        5.78403321e-01,  7.01907159e-02,  1.00000000e-11,  8.78484794e-01]), 2.668588121146648, 0.003725536727214872, 42), (array([ 1.00000000e+00,  8.11672153e-01, -1.04673252e-01,  1.00000000e+00,\n",
      "        5.86278695e-01,  1.00000000e-11,  1.00000000e-11,  7.35894953e-01,\n",
      "        8.69498458e-02,  1.00000000e-11,  4.23054990e-01,  1.00000000e-11,\n",
      "        5.32936375e-01,  1.00000000e-11,  1.00000000e-11,  9.81312180e-01,\n",
      "        5.70744389e-08,  1.00000000e-11,  1.00000000e+00,  5.89504221e-02]), 2.6740787428248023, 0.003664813302843956, 43), (array([-9.16551408e-01, -7.21590868e-01,  9.89948563e-02, -1.00000000e+00,\n",
      "        6.91544434e-01,  1.00000000e-11,  7.89597296e-01,  3.88481195e-04,\n",
      "        2.27925150e-01,  1.08468040e-01,  1.34609489e-01,  1.00000000e-11,\n",
      "        5.04529874e-01,  1.00000000e-11,  5.11877670e-01,  1.00000000e-11,\n",
      "        2.77568906e-01,  4.88856580e-01,  1.00000000e-11,  5.22893039e-01]), 3.1140272467430794, 0.0037736120840910175, 44), (array([ 1.        ,  1.        , -0.11404371,  1.        ,  0.82395456,\n",
      "        0.87935337,  0.60813815,  1.        ,  0.84011263,  0.70200052,\n",
      "        0.91737483,  1.        ,  0.56461372,  0.97611978,  0.06677971,\n",
      "        1.        ,  1.        ,  1.        ,  0.94571811,  0.34042883]), 3.888439702808807, 0.0037978952780282588, 45)]\n",
      "Optimization completed!\n"
     ]
    },
    {
     "data": {
      "text/plain": [
       "<Figure size 1200x600 with 0 Axes>"
      ]
     },
     "metadata": {},
     "output_type": "display_data"
    },
    {
     "name": "stdout",
     "output_type": "stream",
     "text": [
      "time: 13h 5min 28s (started: 2024-04-04 17:10:03 +07:00)\n",
      "\u001b[36m(parallel_pso pid=11032)\u001b[0m \n",
      "\u001b[36m(parallel_pso pid=11032)\u001b[0m Optimization Complete.\n",
      "\u001b[36m(parallel_pso pid=11032)\u001b[0m Best position: [ 1.          1.         -0.11404371  1.          0.82395456  0.87935337\n",
      "\u001b[36m(parallel_pso pid=11032)\u001b[0m   0.60813815  1.          0.84011263  0.70200052  0.91737483  1.\n",
      "\u001b[36m(parallel_pso pid=11032)\u001b[0m   0.56461372  0.97611978  0.06677971  1.          1.          1.\n",
      "\u001b[36m(parallel_pso pid=11032)\u001b[0m   0.94571811  0.34042883]\n",
      "\u001b[36m(parallel_pso pid=11032)\u001b[0m Best Utility: 3.8894755106938246\n"
     ]
    }
   ],
   "source": [
    "#Heuristic search for adaptive precoder and shaping to optimize upper bound BER and precoding\n",
    "\n",
    "%load_ext autotime\n",
    "import matplotlib.pyplot as plt\n",
    "import numpy as np\n",
    "from scipy import special\n",
    "from scipy.stats import norm\n",
    "import ray\n",
    "# ray.init()\n",
    "\n",
    "class adaptive_PAM_env_04:\n",
    "    def __init__(self, optical_power, size):\n",
    "        super(adaptive_PAM_env_04, self).__init__()\n",
    "        self.M = size\n",
    "        self.size = self.M                                                            # Desired PAM order <6\n",
    "        self.ampnoise= 10**-7\n",
    "        self.optical_power_W= 10**(optical_power/10 - 3)\n",
    "        self.A_max= (self.optical_power_W / 0.44) *0.1 /self.ampnoise\n",
    "        # print(self.A_max)\n",
    "        self.x = (2*np.arange(1, self.M + 1)-self.M-1) * self.A_max / (self.M-1)\n",
    "#         print(self.x)\n",
    "        self.N_0 = 1                                                                              # Normalized Noise\n",
    "        self.sigma = 1\n",
    "        self.lamda = 0\n",
    "        self.h_u = 0\n",
    "        self.w = 0\n",
    "        self.eta = 0.44\n",
    "        # self.gamma = 1\n",
    "        self.LEDnumber = 4\n",
    "        self.X_amb = 10.93\n",
    "        self.i_amb = 5*10**(-12)\n",
    "        self.gamma = 0.73\n",
    "        self.A_r = 1 *10 **(-4)\n",
    "        self.Psi = 80*np.pi/180\n",
    "        self.B_mod = 20 * 10**6  #MHZ\n",
    "        # IDC = 0.1\n",
    "        self.e= 1.602176634 * 10**(-19)\n",
    "        self.power = 1                                                                                             # Power tính theo W\n",
    "        self.noise_power= 10**(-12.882)                                                                              # giong bai cu, tính theo W, bai reinforcement learning cuar liang xiao\n",
    "        self.LED_pos= np.matrix([[-np.sqrt(5), -np.sqrt(5), 3], [np.sqrt(5), -np.sqrt(5), 3],                        # vị trí mấy cái đèn\n",
    "                                [np.sqrt(5), np.sqrt(5), 3], [-np.sqrt(5), np.sqrt(5), 3]])\n",
    "        self.userstr =[0, 0, 0.5]                                                                                    # vị trí mấy cái ng dùng\n",
    "        self.Evestr = [2.5, 2.5, 0.5]                                                                                      # vị trí mấy cái ng nghe lén\n",
    "        self.User_pos = np.matrix(self.userstr)\n",
    "        self.Eve_pos = np.matrix(self.Evestr)\n",
    "        self.saveCap1=0\n",
    "        self.goc=0\n",
    "        self.goc_2=0\n",
    "        self.SER_ub = 0\n",
    "        self.secCap = 0\n",
    "        self.utility = 0\n",
    "    def Q_function(self, value):                                                                  # Homemade Q function\n",
    "        return 0.5 - 0.5 * special.erf(value / np.sqrt(2))  # Q(f) = 0.5 - 0.5 erf(f/sqrt(2))\n",
    "    def distance(self): #đã check, okeeee\n",
    "      H1 = np.zeros((4,1));\n",
    "      H2 = np.zeros((4,1));\n",
    "      T = H1\n",
    "      T_2 = H2\n",
    "      Phita_2= H2\n",
    "      Phita = H1\n",
    "      for i in range(self.LEDnumber):\n",
    "          for j in range(1): #sa\n",
    "                #Vector between led and user position\n",
    "              vector = self.LED_pos[i,:] - self.User_pos[0,:];\n",
    "              #eve\n",
    "              vector_2 = self.LED_pos[i,:] - self.Eve_pos[0,:];\n",
    "              #Distance between led and user\n",
    "              T[i,j] = np.linalg.norm(vector);\n",
    "              #eve\n",
    "              T_2[i,j] = np.linalg.norm(vector_2);\n",
    "\n",
    "      self.khoangcach_u=T\n",
    "      self.khoangcach_e=T_2\n",
    "      # print(f\"Phita {T, T_2}\")\n",
    "      return self.khoangcach_u, self.khoangcach_e\n",
    "  #công thức tính góc theo code của anh sơn, khá là dễ hiểu công thức hình học cấp 3\n",
    "    def angle(self): #okeee, vẫn đúng, anh sơn chơi độ, ở đây dùng radian\n",
    "        H1 = np.zeros((4,1));\n",
    "        H2 = np.zeros((4,1));\n",
    "        T = H1;\n",
    "        Phita = H1;\n",
    "        T_2 = H2\n",
    "        Phita_2= H2\n",
    "        for i in range(self.LEDnumber):\n",
    "            for j in range(1):\n",
    "                vector = self.LED_pos[i,:] - self.User_pos[0,:];\n",
    "                T[i,j] = np.linalg.norm(vector);\n",
    "\n",
    "                vector_2 = self.LED_pos[i,:] - self.Eve_pos[0,:];\n",
    "                T_2[i,j] = np.linalg.norm(vector_2);\n",
    "\n",
    "                Phita[i,j] = np.arccos(2.5/T[i,j]);\n",
    "                Phita_2[i,j] = np.arccos(2.5/T_2[i,j]);                           #chieu cao\n",
    "\n",
    "        self.goc=Phita\n",
    "        self.goc_2=Phita_2\n",
    "        # print(f\"Phita {Phita, Phita_2}\")\n",
    "        return self.goc, self.goc_2\n",
    "    def calc_channelgain(self): # gain theo bài anh sơn\n",
    "        self.SemiAngle       = 60 *np.pi/180\n",
    "        self.lambertian_angle= 120*np.pi/180\n",
    "        self.PD_FOV          = 60 *np.pi/180\n",
    "        self.PD_RefracIndex  = 1.5                  # Reflective Index\n",
    "        self.PD_OptFilGain   = 1                    # Optical Concentration Gain\n",
    "        self.PD_Area         = 10**(-4)             # Square meter\n",
    "        self.LEDConver       = 0.44                 # LED Conversion factor (W/A)\n",
    "        self.PD_Responsivity  = 0.54                 # Responsivity of the PDs (A/W)\n",
    "\n",
    "        l = -np.log(2)/np.log(np.cos(self.SemiAngle))\n",
    "        L = (l + 1) * (np.cos(self.goc))**l / (2 * np.pi)\n",
    "\n",
    "        G = self.PD_RefracIndex**2 / np.sin(self.PD_FOV)**2\n",
    "\n",
    "        d = self.khoangcach_u\n",
    "\n",
    "        # print(self.goc)\n",
    "        gain_mostafa = self.PD_Area * (1/(d**2)) *  G  * np.cos(self.goc) *L\n",
    "        # print(f\"Gain{gain_mostafa}\")\n",
    "        self.chanGain_b = np.vstack(gain_mostafa)*self.LEDConver *self.PD_Responsivity\n",
    "\n",
    "        l_2 = -np.log(2)/np.log(np.cos(self.SemiAngle))\n",
    "\n",
    "        G_2 = self.PD_RefracIndex**2 / np.sin(self.PD_FOV)**2\n",
    "        L_2 = (l_2 + 1) * (np.cos(self.goc_2))**l_2 / (2 * np.pi)\n",
    "        d_2 = self.khoangcach_e\n",
    "        gain_mostafa_2 = self.PD_Area *G_2  * (1/(d_2**2)) * np.cos(self.goc_2) *L_2\n",
    "        # print(f\"Gain{gain_mostafa_2}\")\n",
    "        self.chanGain_e = np.vstack(gain_mostafa_2)*self.LEDConver *self.PD_Responsivity\n",
    "#         print(self.chanGain_e)\n",
    "        return self.chanGain_b, self.chanGain_e\n",
    "\n",
    "    def entropy_prob(self, y, w, prob, h ):#P_t_dBm ):\n",
    "\n",
    "      p = 0\n",
    "      Gaus1 = 1 / np.sqrt(2 * np.pi * self.sigma**2)\n",
    "      noise = np.log2(2 * np.pi * np.e * self.sigma**2) / 2\n",
    "      for i in range(self.M):\n",
    "        t = np.sum(np.matmul(np.transpose(h),w )*self.x[i])\n",
    "\n",
    "        p +=  prob[i] * Gaus1* np.exp(-(y - t)**2 / (2 * self.sigma**2))\n",
    "      if p < 10**-300:\n",
    "        p = 10**-300\n",
    "      h_y= -p * np.log2(p)\n",
    "      return h_y\n",
    "\n",
    "    def gaussian11(self, y, W, prob, h):\n",
    "      f = 0\n",
    "      p = 0\n",
    "      Gaus1 = 1 / np.sqrt(2 * np.pi * self.sigma**2)\n",
    "\n",
    "      for i in range(self.M):\n",
    "          t = np.sum(np.matmul(np.transpose(h),W )*self.x[i])\n",
    "#           print(h.size)\n",
    "          Gaus2 = np.exp(-(y - t)**2 / (2 * self.sigma**2))\n",
    "          Gaus = Gaus1 * Gaus2\n",
    "          f += prob[i] * Gaus\n",
    "      # print(f)\n",
    "      if f <= 0:\n",
    "          f = 10**-300\n",
    "      return f\n",
    "    def entropy(self, y, W, prob, h):\n",
    "                    f_y = -self.gaussian11(y, W, prob, h)*np.log2(self.gaussian11(y, W, prob, h))\n",
    "                    return  f_y\n",
    "\n",
    "    def loggau(self,y, W, prob, h):\n",
    "      return np.log2(self.gaussian11(y, W, prob, h))\n",
    "\n",
    "\n",
    "    def deri_order(self,mu, W, prob, h):#variable x, derivative at a, order k\n",
    "        k_order = deri(self.loggau, x0 = mu, n=2, dx=1e-6, args=(W, prob, h), order = 11) / math.factorial(2)\n",
    "        return k_order\n",
    "\n",
    "\n",
    "    def zeroth_order_func3(self,W, prob, h):\n",
    "      zeroth = 0\n",
    "      for i in range(self.M ):\n",
    "        t = np.sum(np.matmul(np.transpose(h),W )*self.x[i])\n",
    "        zeroth = zeroth -self.loggau(t, W, prob, h)*prob[i]\n",
    "      return zeroth\n",
    "\n",
    "\n",
    "    def second_order_func_3(self,W, prob, h):\n",
    "      F_func = 0\n",
    "      sigma = 1\n",
    "      for i in range(self.M):\n",
    "        t = np.sum(np.matmul(np.transpose(h),W )*self.x[i])\n",
    "        F_func = F_func + self.deri_order(t, W, prob, h)*prob[i]\n",
    "      return F_func\n",
    "\n",
    "    def aproximmate_entropy(self,W, prob, h):\n",
    "      H = self.zeroth_order_func3(W, prob, h) - self.second_order_func_3(W, prob, h) *self.sigma**2\n",
    "      return H\n",
    "    def SER_ub1(self, W, prob, h):                 # find upper bound for error probability WCNC anh Thanh\n",
    "      pmn = 0\n",
    "#       print(prob)\n",
    "#       d = 0\n",
    "      sigma = 1\n",
    "      prob = prob/np.sum(prob)\n",
    "      W = W.astype(float)  # Convert to float\n",
    "      W[W == 0] += 0.00000000001\n",
    "      prob= prob.astype(float)  # Convert to float\n",
    "      prob[prob == 0] += 0.00000000001\n",
    "#       if self.M!= prob.size:\n",
    "#         print(\"False\")\n",
    "#       else:\n",
    "#         print(f\"This is the size {self.M}, {prob.size}\")\n",
    "#       h = h *10**6\n",
    "      SER_ub = 0\n",
    "      for m in range(1, self.M + 1):\n",
    "        for n in range(1, self.M + 1):\n",
    "          if n != m:\n",
    "            # This is the closed form equation (17)\n",
    "            d = np.matmul(np.transpose(h),W ) * self.gamma * self.eta * (self.x[m-1] - self.x[n-1])\n",
    "            pmn = (1/2) * math.erfc((2* (sigma**2) * np.log(prob[m-1]/prob[n-1]) + d**2)/(2 * np.sqrt(2) * sigma * abs(d)))\n",
    "            SER_ub +=  prob[m - 1] * pmn\n",
    "\n",
    "      SER_ub = SER_ub /math.log2(self.M)\n",
    "#       if SER_ub < 1.998811994548001e-10:\n",
    "#             print(W)\n",
    "\n",
    "      return SER_ub\n",
    "    def calculate_utility(self,w_p ):                                                             # Calculate 1/P_e for objective function\n",
    "        utility = 0\n",
    "        w_p = (np.array( w_p))\n",
    "        W, prob = np.split(w_p, [4])\n",
    "        W = W.astype(float)  # Convert to float\n",
    "        W[W == 0] += 0.00000000001\n",
    "        prob= prob.astype(float)  # Convert to float\n",
    "        prob[prob == 0] += 0.00000000001\n",
    "#       prob = (prob)\n",
    "#         W = np.array([1,1,0,1])\n",
    "#         prob = np.concatenate([prob, np.flip(prob)])\n",
    "        prob = prob/np.sum(prob)\n",
    "#         if self.M!= prob.size:\n",
    "#             print(\"False\")\n",
    "#         else:\n",
    "#             print(f\"This is the size {self.M}, {prob.size}\")\n",
    "#         print(W, prob)\n",
    "        #Aprox\n",
    "        H2 = self.aproximmate_entropy(W, prob, self.chanGain_b) - self.aproximmate_entropy(W, prob, self.chanGain_e)\n",
    "        # Real\n",
    "#         H2 = quad(self.entropy, -math.inf, math.inf, args=(W,prob, self.chanGain_b,), limit = 5000)[0] - quad(self.entropy, -math.inf, math.inf, args=(W,prob, self.chanGain_e,), limit = 5000)[0]\n",
    "        utility = H2\n",
    "        BER = self.SER_ub1(W, prob, self.chanGain_b)\n",
    "#         print(f\"BER= {BER}\")\n",
    "#         print(f\"result{w_p}\")\n",
    "#         print(f\"aprrox{H}\")\n",
    "#         print(f\"real{H}\")\n",
    "        if BER > 3.8* 1e-3:\n",
    "            utility = H2- 1000000 * BER\n",
    "#             self.A_max = np.array([0,0,0,0])\n",
    "        else:\n",
    "#             H = quad(self.entropy, -math.inf, math.inf, args=(W,prob, self.chanGain_b,), limit = 5000)[0] - quad(self.entropy, -math.inf, math.inf, args=(W,prob, self.chanGain_e,), limit = 5000)[0]\n",
    "            utility = H2\n",
    "#             print(f\"BER= {BER}\")\n",
    "#             print(f\"result{w_p}\")\n",
    "#             print(f\"aprrox{H2}\")\n",
    "\n",
    "        return utility\n",
    "\n",
    "    \n",
    "cons_size = 16\n",
    "Min_power = 36\n",
    "Max_power = 46\n",
    "Num_point = 1\n",
    "\n",
    "\n",
    "pam_env = adaptive_PAM_env_04(Max_power,cons_size)\n",
    "run_vari1 = np.linspace(Min_power,Num_point,Max_power)\n",
    "\n",
    "plt.figure(figsize=(12,6))\n",
    "output_ids_gen = []\n",
    "output_ids_simu = []\n",
    "output_ids_two = []\n",
    "output_ids_upper = []\n",
    "def run_pso_parallel(i,  size_p =cons_size, population_size= 3000 , inertia_weight=0.5,\n",
    "                     cognitive_coefficient=2, social_coefficient=1.5, generations=150):\n",
    "    pam_env = adaptive_PAM_env_04(i, size_p)\n",
    "    pam_env.distance()\n",
    "    pam_env.angle()\n",
    "    pam_env.calc_channelgain()\n",
    "    pso_algorithm = ParticleSwarmOptimization(population_size=population_size , inertia_weight=inertia_weight,\n",
    "                                               cognitive_coefficient=cognitive_coefficient,\n",
    "                                               social_coefficient=social_coefficient, generations=generations)\n",
    "    # Run the PSO algorithm\n",
    "    \n",
    "    pos = pso_algorithm.run_particle_swarm_optimization(size_p, pam_env.calculate_utility)\n",
    "    \n",
    "#     w_p = (np.array( w_p))\n",
    "    \n",
    "    cap = pam_env.calculate_utility(pos)\n",
    "    W, prob = np.split(pos, [4])\n",
    "    prob = prob/sum(prob)\n",
    "    ber = pam_env.SER_ub1(W, prob, pam_env.chanGain_b)\n",
    "    \n",
    "    return pos, cap, ber, i\n",
    "\n",
    "# Parallelize the PSO algorithm using Ray\n",
    "@ray.remote\n",
    "def parallel_pso(i,  size_p ):\n",
    "    return run_pso_parallel(i,  size_p)\n",
    "\n",
    "# Set up Ray\n",
    "# ray.init()\n",
    "\n",
    "# Run PSO in parallel\n",
    "pso_result = np.zeros(Max_power)\n",
    "pso_position = np.zeros(1)\n",
    "pso_pos = ray.get([parallel_pso.remote(i,  size_p=cons_size) for i in range(Min_power, Max_power, Num_point)])\n",
    "\n",
    "print(pso_pos)\n",
    "\n",
    "\n",
    "\n",
    "print(\"Optimization completed!\")\n",
    "\n",
    "\n"
   ]
  },
  {
   "cell_type": "code",
   "execution_count": 7,
   "metadata": {
    "ExecuteTime": {
     "end_time": "2024-04-04T23:15:32.511963Z",
     "start_time": "2024-04-04T23:15:32.203740Z"
    }
   },
   "outputs": [
    {
     "name": "stdout",
     "output_type": "stream",
     "text": [
      "[1.         1.         0.         1.         0.53387641 0.79094466\n",
      " 0.37557326 0.18724745 0.18724745 0.37557326 0.79094466 0.53387641]\n",
      "Result 0.00945282416495452\n"
     ]
    },
    {
     "name": "stderr",
     "output_type": "stream",
     "text": [
      "C:\\Users\\DELL\\AppData\\Local\\Temp\\ipykernel_28248\\3945670072.py:38: MatplotlibDeprecationWarning: Passing the linefmt parameter positionally is deprecated since Matplotlib 3.5; the parameter will become keyword-only two minor releases later.\n",
      "  plt.stem(name_str, a,'g*--')\n"
     ]
    },
    {
     "data": {
      "image/png": "[encoded data removed]",
      "text/plain": [
       "<Figure size 900x300 with 2 Axes>"
      ]
     },
     "metadata": {},
     "output_type": "display_data"
    },
    {
     "name": "stdout",
     "output_type": "stream",
     "text": [
      "time: 312 ms (started: 2024-04-05 06:15:32 +07:00)\n"
     ]
    }
   ],
   "source": [
    "p = np.array([1,1,0,1, 0.53387641, 0.79094466, 0.37557326, 0.18724745, 0.18724745,\n",
    "       0.37557326, 0.79094466, 0.53387641])\n",
    "print(p)\n",
    "p = np.concatenate([p, np.flip(p[4:])])\n",
    "pam_env = adaptive_PAM_env_04(110, 16)\n",
    "pam_env.distance()\n",
    "pam_env.angle()\n",
    "pam_env.calc_channelgain()\n",
    "print(f\"Result {pam_env.calculate_utility(p)}\")\n",
    "# p_test = np.array([9.62296811e-01, 1.00000000e+00 ,0, 1.00000000e+00,\n",
    "#  1.00000000e+00, 1.00000000e-12, 1.00000000e+00, 1.00000000e-12,\n",
    "#  8.36653050e-02, 1.00000000e+00, 1.00000000e-12, 1.00000000e-12])\n",
    "# p_test = np.concatenate([p_test, np.flip(p_test[4:])])\n",
    "# print(pam_env.calculate_utility(p))\n",
    "# p = np.concatenate([p, np.flip(p[4:])])\n",
    "\n",
    "for i in range(1):\n",
    "    plt.figure(figsize=(9, 3))\n",
    "\n",
    "    name = [-15,-13,-11,-9,-7,-5,-3, -1, 1, 3,5,7,9,11,13,15]\n",
    "    name_str = ['1','2','3','4','5','6','7','8','9','10','11','12','13','14','15','16']\n",
    "    LED = [1, 2, 3, 4]\n",
    "\n",
    "    for j in range(len(name)):\n",
    "        name_str[j] = str(name[j])\n",
    "    plt.subplot(121)\n",
    "    plt.bar(LED, p[:4])\n",
    "    plt.xlabel('LED')\n",
    "    plt.ylabel('Precoder')\n",
    "    # plt.title('Subplot 1')\n",
    "\n",
    "    a = p[4:]\n",
    "    suma= sum(p[4:])\n",
    "    for j in range(len(a)):\n",
    "        a[j] = a[j] / suma\n",
    "\n",
    "    plt.subplot(122)\n",
    "    plt.stem(name_str, a,'g*--')\n",
    "    plt.xlabel('Amplitude')\n",
    "    plt.ylabel('Probability')\n",
    "    # plt.title('Subplot 2')\n",
    "\n",
    "    plt.tight_layout()  # Adjust layout to prevent overlap\n",
    "    plt.show()\n"
   ]
  },
  {
   "cell_type": "code",
   "execution_count": 8,
   "metadata": {
    "ExecuteTime": {
     "end_time": "2024-04-04T23:15:32.873531Z",
     "start_time": "2024-04-04T23:15:32.512959Z"
    }
   },
   "outputs": [
    {
     "ename": "NameError",
     "evalue": "name 'pso_results' is not defined",
     "output_type": "error",
     "traceback": [
      "\u001b[1;31m---------------------------------------------------------------------------\u001b[0m",
      "\u001b[1;31mNameError\u001b[0m                                 Traceback (most recent call last)",
      "\u001b[1;32m~\\AppData\\Local\\Temp\\ipykernel_28248\\3013512197.py\u001b[0m in \u001b[0;36m<module>\u001b[1;34m\u001b[0m\n\u001b[1;32m----> 1\u001b[1;33m \u001b[0mprint\u001b[0m\u001b[1;33m(\u001b[0m\u001b[0mpso_results\u001b[0m\u001b[1;33m)\u001b[0m\u001b[1;33m\u001b[0m\u001b[1;33m\u001b[0m\u001b[0m\n\u001b[0m",
      "\u001b[1;31mNameError\u001b[0m: name 'pso_results' is not defined"
     ]
    },
    {
     "name": "stdout",
     "output_type": "stream",
     "text": [
      "time: 344 ms (started: 2024-04-05 06:15:32 +07:00)\n"
     ]
    }
   ],
   "source": [
    "print(pso_results)"
   ]
  },
  {
   "cell_type": "code",
   "execution_count": null,
   "metadata": {},
   "outputs": [],
   "source": []
  },
  {
   "cell_type": "code",
   "execution_count": null,
   "metadata": {
    "ExecuteTime": {
     "end_time": "2024-04-04T23:15:32.876521Z",
     "start_time": "2024-04-04T23:15:32.876521Z"
    },
    "id": "GNJzStc5yAhZ"
   },
   "outputs": [],
   "source": [
    "p = np.array([psotemp])\n",
    "# p = np.array([9.84447764e-01, 9.84447764e-01, -1.14668294e-03, 9.82712270e-01,\n",
    "#               3.89518506e-04, 1.00000000e+00, 8.55036822e-04, 4.66356042e-04,\n",
    "#               3.98921473e-03, 9.92223882e-01, 5.95603846e-04, 1.17689200e-03,\n",
    "#               1.00000000e-11, 9.92223882e-01, 7.77611822e-03, 1.57226146e-03,\n",
    "#               2.02356585e-03, 9.92223882e-01, 4.54113397e-03, 3.28757838e-03])\n",
    "print(p)\n",
    "print(len(p))\n",
    "for i in range(len(p)):\n",
    "    plt.figure(figsize=(9, 3))\n",
    "\n",
    "    name = [-7,-5,-3, -1, 1, 3,5,7]\n",
    "    name_str = ['1','2','3','4','5','6','7','8']\n",
    "    LED = [1, 2, 3, 4]\n",
    "\n",
    "    for j in range(len(name)):\n",
    "        name_str[j] = str(name[j])\n",
    "    plt.subplot(121)\n",
    "    plt.bar(LED, p[i][:4])\n",
    "    plt.xlabel('LED')\n",
    "    plt.ylabel('Precoder')\n",
    "    # plt.title('Subplot 1')\n",
    "\n",
    "    a = p[i][4:]\n",
    "    for j in range(len(a)):\n",
    "        a[j] = a[j] / sum(p[i][4:])\n",
    "\n",
    "    plt.subplot(122)\n",
    "    plt.stem(name_str, a,'g*--')\n",
    "    plt.xlabel('Amplitude')\n",
    "    plt.ylabel('Probability')\n",
    "    # plt.title('Subplot 2')\n",
    "\n",
    "    plt.tight_layout()  # Adjust layout to prevent overlap\n",
    "    plt.show()\n"
   ]
  },
  {
   "cell_type": "markdown",
   "metadata": {
    "id": "1qSn6SnD0bH5"
   },
   "source": [
    "Sample Environment?"
   ]
  },
  {
   "cell_type": "markdown",
   "metadata": {
    "id": "O3OcoU29zj_P"
   },
   "source": [
    "Test Cal_sigma WCNC"
   ]
  },
  {
   "cell_type": "markdown",
   "metadata": {
    "id": "7_GDCAKozs4X"
   },
   "source": [
    "Test Cal A\n"
   ]
  },
  {
   "cell_type": "markdown",
   "metadata": {
    "id": "pt-o9GPfzygZ"
   },
   "source": [
    "Test cal_entropy"
   ]
  }
 ],
 "metadata": {
  "colab": {
   "provenance": []
  },
  "kernelspec": {
   "display_name": "Python 3 (ipykernel)",
   "language": "python",
   "name": "python3"
  },
  "language_info": {
   "codemirror_mode": {
    "name": "ipython",
    "version": 3
   },
   "file_extension": ".py",
   "mimetype": "text/x-python",
   "name": "python",
   "nbconvert_exporter": "python",
   "pygments_lexer": "ipython3",
   "version": "3.9.13"
  },
  "toc": {
   "base_numbering": 1,
   "nav_menu": {},
   "number_sections": true,
   "sideBar": true,
   "skip_h1_title": false,
   "title_cell": "Table of Contents",
   "title_sidebar": "Contents",
   "toc_cell": false,
   "toc_position": {},
   "toc_section_display": true,
   "toc_window_display": false
  },
  "varInspector": {
   "cols": {
    "lenName": 16,
    "lenType": 16,
    "lenVar": 40
   },
   "kernels_config": {
    "python": {
     "delete_cmd_postfix": "",
     "delete_cmd_prefix": "del ",
     "library": "var_list.py",
     "varRefreshCmd": "print(var_dic_list())"
    },
    "r": {
     "delete_cmd_postfix": ") ",
     "delete_cmd_prefix": "rm(",
     "library": "var_list.r",
     "varRefreshCmd": "cat(var_dic_list()) "
    }
   },
   "oldHeight": 122.844,
   "position": {
    "height": "40px",
    "left": "1096px",
    "right": "20px",
    "top": "120px",
    "width": "250px"
   },
   "types_to_exclude": [
    "module",
    "function",
    "builtin_function_or_method",
    "instance",
    "_Feature"
   ],
   "varInspector_section_display": "none",
   "window_display": false
  }
 },
 "nbformat": 4,
 "nbformat_minor": 1
}
